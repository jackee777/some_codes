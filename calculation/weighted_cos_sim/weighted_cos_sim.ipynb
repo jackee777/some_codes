{
 "cells": [
  {
   "cell_type": "markdown",
   "metadata": {},
   "source": [
    "# 一部分に重みを加えたベクトルの cos 類似度の計算\n",
    "ベクトルの一部を計算した場合でも cos 類似度を求める場合には再計算することが多いかと思います．\n",
    "一方，dot であれば多くの方はしないはず．という訳で cos 類似度で全体を再計算しないで済む方法を書いておきます．"
   ]
  },
  {
   "cell_type": "markdown",
   "metadata": {},
   "source": [
    "### 初期設定"
   ]
  },
  {
   "cell_type": "code",
   "execution_count": 1,
   "metadata": {},
   "outputs": [],
   "source": [
    "import numpy as np\n",
    "import copy"
   ]
  },
  {
   "cell_type": "code",
   "execution_count": 2,
   "metadata": {},
   "outputs": [
    {
     "data": {
      "text/plain": [
       "[2, 3]"
      ]
     },
     "execution_count": 2,
     "metadata": {},
     "output_type": "execute_result"
    }
   ],
   "source": [
    "# 重みづけする値\n",
    "weight = 20\n",
    "# 重みづけする index \n",
    "indexes = [j for j in range(2, 4)]\n",
    "indexes"
   ]
  },
  {
   "cell_type": "markdown",
   "metadata": {},
   "source": [
    "### ベクトルの生成"
   ]
  },
  {
   "cell_type": "code",
   "execution_count": 3,
   "metadata": {},
   "outputs": [
    {
     "data": {
      "text/plain": [
       "array([[ 1.30042348, -1.82751569,  0.84084007,  1.88565653, -0.24484313],\n",
       "       [-1.26761704,  0.86831757, -0.44518288,  0.33844744, -0.40704083]])"
      ]
     },
     "execution_count": 3,
     "metadata": {},
     "output_type": "execute_result"
    }
   ],
   "source": [
    "x = np.random.randn(2, 100)\n",
    "x[:, :5]"
   ]
  },
  {
   "cell_type": "markdown",
   "metadata": {},
   "source": [
    "### 一部分に重みを加えたベクトルの生成（チェックのため）"
   ]
  },
  {
   "cell_type": "code",
   "execution_count": 4,
   "metadata": {},
   "outputs": [
    {
     "data": {
      "text/plain": [
       "array([[ 1.30042348, -1.82751569, 16.81680149, 37.71313064, -0.24484313],\n",
       "       [-1.26761704,  0.86831757, -8.90365757,  6.76894872, -0.40704083]])"
      ]
     },
     "execution_count": 4,
     "metadata": {},
     "output_type": "execute_result"
    }
   ],
   "source": [
    "w = copy.copy(x)\n",
    "w[:, indexes] *= weight\n",
    "w[:, :5]"
   ]
  },
  {
   "cell_type": "markdown",
   "metadata": {},
   "source": [
    "### cos 類似度の関数の定義"
   ]
  },
  {
   "cell_type": "code",
   "execution_count": 5,
   "metadata": {},
   "outputs": [],
   "source": [
    "def cos_sim(x, y):\n",
    "    return (x @ y.T)/(np.sqrt(x @ x.T)*np.sqrt(y @ y.T))"
   ]
  },
  {
   "cell_type": "markdown",
   "metadata": {},
   "source": [
    "### cos 類似度の関数の計算"
   ]
  },
  {
   "cell_type": "code",
   "execution_count": 6,
   "metadata": {},
   "outputs": [
    {
     "data": {
      "text/plain": [
       "-0.12419248186849967"
      ]
     },
     "execution_count": 6,
     "metadata": {},
     "output_type": "execute_result"
    }
   ],
   "source": [
    "cos_sim(x[0], x[1])"
   ]
  },
  {
   "cell_type": "markdown",
   "metadata": {},
   "source": [
    "### 一部分に重みを加えたベクトルの cos 類似度を計算するための関数の定義\n",
    "dot の場合であれば，重みによって変わった値だけ計算すればよいです．\n",
    "例えば，<1, 3, 4>というベクトルの dot 積は26です．3という値を重み2によって2倍したベクトル<1, 6, 4>の dot 積は53です．この時の変化量は ```(2の2乗 - 1)* (3の2乗)=27```すなわち```((重みの2乗)-1) * (値の2乗)=変化量```によって求めることができます．\n",
    "要するに，元の26という値を持っていれば，変化した値のみを計算することで一部分に重みを加えたベクトルの dot 積が出せます．\n",
    "こうすることで，ベクトルの全ての要素に対する計算を避けることができ，計算が繰り返される場合には計算量が削減できます．\n",
    "同様に cos 類似度の分母も変更すると次の関数のようになります．"
   ]
  },
  {
   "cell_type": "code",
   "execution_count": 7,
   "metadata": {},
   "outputs": [],
   "source": [
    "def weight_cos_sim(x, y, indexes, w):\n",
    "    return (x @ y.T + (w**2-1) * np.sum(x[indexes] * y[indexes].T) )/\\\n",
    "            (np.sqrt(x @ x.T + (w**2-1) * np.sum(x[indexes] * x[indexes].T))*\\\n",
    "             np.sqrt(y @ y.T + (w**2-1) * np.sum(y[indexes] * y[indexes].T)))"
   ]
  },
  {
   "cell_type": "markdown",
   "metadata": {},
   "source": [
    "### （重みを再利用する場合）一部分に重みを加えたベクトルのcos 類似度を計算するための関数の定義"
   ]
  },
  {
   "cell_type": "code",
   "execution_count": 10,
   "metadata": {},
   "outputs": [],
   "source": [
    "def reusedweight_cos_sim(x, y, values, indexes, w):\n",
    "    return (values[0] + (w**2-1) * np.sum(x[indexes] * y[indexes].T) )/\\\n",
    "            (np.sqrt(values[1] + (w**2-1) * np.sum(x[indexes] * x[indexes].T))*\\\n",
    "             np.sqrt(values[2] + (w**2-1) * np.sum(y[indexes] * y[indexes].T)))"
   ]
  },
  {
   "cell_type": "markdown",
   "metadata": {},
   "source": [
    "### 一部分に重みを加えたベクトルの cos 類似度の関数の計算"
   ]
  },
  {
   "cell_type": "code",
   "execution_count": 8,
   "metadata": {},
   "outputs": [
    {
     "data": {
      "text/plain": [
       "0.14208709983961829"
      ]
     },
     "execution_count": 8,
     "metadata": {},
     "output_type": "execute_result"
    }
   ],
   "source": [
    "# チェック\n",
    "cos_sim(w[0], w[1])"
   ]
  },
  {
   "cell_type": "code",
   "execution_count": 9,
   "metadata": {},
   "outputs": [
    {
     "data": {
      "text/plain": [
       "0.14208709983961826"
      ]
     },
     "execution_count": 9,
     "metadata": {},
     "output_type": "execute_result"
    }
   ],
   "source": [
    "# 本番\n",
    "weight_cos_sim(x[0], x[1], indexes, weight)"
   ]
  },
  {
   "cell_type": "code",
   "execution_count": 12,
   "metadata": {},
   "outputs": [
    {
     "data": {
      "text/plain": [
       "0.14208709983961826"
      ]
     },
     "execution_count": 12,
     "metadata": {},
     "output_type": "execute_result"
    }
   ],
   "source": [
    "# （重みを再利用する場合の）本番\n",
    "reusedweight_cos_sim(x[0], x[1], [x[0] @ x[1].T, x[0] @ x[0].T, x[1] @ x[1].T], indexes, weight)"
   ]
  },
  {
   "cell_type": "markdown",
   "metadata": {},
   "source": [
    "# 同じになりました\n",
    "実際に，この関数を用いて効率が良くなるのは，組み合わせの数が多い場合です．\n",
    "組み合わせが多い場合，計算済みの値を用いて計算を効率化できます．\n",
    "雑ですが以上です"
   ]
  },
  {
   "cell_type": "code",
   "execution_count": null,
   "metadata": {},
   "outputs": [],
   "source": []
  }
 ],
 "metadata": {
  "kernelspec": {
   "display_name": "Python 3",
   "language": "python",
   "name": "python3"
  },
  "language_info": {
   "codemirror_mode": {
    "name": "ipython",
    "version": 3
   },
   "file_extension": ".py",
   "mimetype": "text/x-python",
   "name": "python",
   "nbconvert_exporter": "python",
   "pygments_lexer": "ipython3",
   "version": "3.5.2"
  }
 },
 "nbformat": 4,
 "nbformat_minor": 2
}

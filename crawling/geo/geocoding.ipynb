{
 "cells": [
  {
   "cell_type": "markdown",
   "metadata": {},
   "source": [
    "とりあえず，適当に北緯・東経が欲しいなーって時に使用しているサイトからの取得\n",
    "https://www.geocoding.jp/"
   ]
  },
  {
   "cell_type": "markdown",
   "metadata": {},
   "source": [
    "# 注意事項"
   ]
  },
  {
   "cell_type": "markdown",
   "metadata": {},
   "source": [
    "https://twitter.com/Geocoding_jp/status/1060346636721782784?ref_src=twsrc%5Etfw%7Ctwcamp%5Eembeddedtimeline%7Ctwterm%5Eprofile%3AGeocoding_jp%7Ctwcon%5Etimelinechrome&ref_url=https%3A%2F%2Fwww.geocoding.jp%2F"
   ]
  },
  {
   "cell_type": "markdown",
   "metadata": {},
   "source": [
    "上のツイートより，\n",
    "\n",
    "西日本にある某大学の方。当サイトへの短時間の大量アクセスが長期間続いていたので、やむを得ずアクセス遮断しました。HTTP Error 403が出ていると思います。5秒に1回、できれば10秒に1回程度にアクセス頻度を下げてください。よろしくお願いします〜\n",
    "\n",
    "とのことなので，time sleep は 15 くらいにします．なくなったら，とっても困る"
   ]
  },
  {
   "cell_type": "markdown",
   "metadata": {},
   "source": [
    "## time sleep"
   ]
  },
  {
   "cell_type": "code",
   "execution_count": 1,
   "metadata": {
    "collapsed": false
   },
   "outputs": [],
   "source": [
    "import requests\n",
    "import time\n",
    "from bs4 import BeautifulSoup"
   ]
  },
  {
   "cell_type": "code",
   "execution_count": 2,
   "metadata": {
    "collapsed": true
   },
   "outputs": [],
   "source": [
    "def get_geo(word):\n",
    "    time.sleep(15)\n",
    "    base = \"https://www.geocoding.jp/?q=\"\n",
    "    r = requests.get(base+word)\n",
    "    soup = BeautifulSoup(r.text, \"lxml\")\n",
    "    info = [None] * 5\n",
    "    geo_info = [info.text for info in soup.find_all(\"b\")[:3]]\n",
    "    if \"(?)\" in geo_info[0]:\n",
    "        info[0], info[3] = geo_info[0].split(\"、\")\n",
    "        info[3] = info[3].replace(\"(?)\", \"\")\n",
    "        info[4] = 1\n",
    "    else:\n",
    "        info[0] = geo_info[0]\n",
    "        info[4] = 0\n",
    "    info[1] = float(geo_info[1])\n",
    "    info[2] = float(geo_info[2])\n",
    "    return info"
   ]
  },
  {
   "cell_type": "code",
   "execution_count": 3,
   "metadata": {
    "collapsed": false
   },
   "outputs": [
    {
     "data": {
      "text/plain": [
       "['新宿区', 35.69384, 139.703549, '東京都', 1]"
      ]
     },
     "execution_count": 3,
     "metadata": {},
     "output_type": "execute_result"
    }
   ],
   "source": [
    "get_geo(\"新宿\")"
   ]
  },
  {
   "cell_type": "code",
   "execution_count": null,
   "metadata": {
    "collapsed": false
   },
   "outputs": [
    {
     "data": {
      "text/plain": [
       "['新宿駅', 35.689592, 139.700413, None, 0]"
      ]
     },
     "execution_count": 4,
     "metadata": {},
     "output_type": "execute_result"
    }
   ],
   "source": [
    "get_geo(\"新宿駅\")"
   ]
  },
  {
   "cell_type": "code",
   "execution_count": null,
   "metadata": {
    "collapsed": false
   },
   "outputs": [],
   "source": [
    "get_geo(\"ディズニーランド\")"
   ]
  },
  {
   "cell_type": "code",
   "execution_count": null,
   "metadata": {
    "collapsed": true
   },
   "outputs": [],
   "source": []
  }
 ],
 "metadata": {
  "anaconda-cloud": {},
  "kernelspec": {
   "display_name": "Python [default]",
   "language": "python",
   "name": "python3"
  },
  "language_info": {
   "codemirror_mode": {
    "name": "ipython",
    "version": 3
   },
   "file_extension": ".py",
   "mimetype": "text/x-python",
   "name": "python",
   "nbconvert_exporter": "python",
   "pygments_lexer": "ipython3",
   "version": "3.5.2"
  }
 },
 "nbformat": 4,
 "nbformat_minor": 1
}

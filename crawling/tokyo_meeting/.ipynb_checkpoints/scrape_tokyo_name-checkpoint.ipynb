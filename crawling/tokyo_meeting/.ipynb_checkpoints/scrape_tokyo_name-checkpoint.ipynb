{
 "cells": [
  {
   "cell_type": "code",
   "execution_count": 1,
   "metadata": {
    "collapsed": false
   },
   "outputs": [],
   "source": [
    "import urllib3\n",
    "from bs4 import BeautifulSoup"
   ]
  },
  {
   "cell_type": "code",
   "execution_count": 2,
   "metadata": {
    "collapsed": true
   },
   "outputs": [],
   "source": [
    "http = urllib3.PoolManager()"
   ]
  },
  {
   "cell_type": "code",
   "execution_count": 3,
   "metadata": {
    "collapsed": false
   },
   "outputs": [
    {
     "name": "stderr",
     "output_type": "stream",
     "text": [
      "C:\\Users\\stard\\Anaconda3\\lib\\site-packages\\urllib3\\connectionpool.py:857: InsecureRequestWarning: Unverified HTTPS request is being made. Adding certificate verification is strongly advised. See: https://urllib3.readthedocs.io/en/latest/advanced-usage.html#ssl-warnings\n",
      "  InsecureRequestWarning)\n",
      "C:\\Users\\stard\\Anaconda3\\lib\\site-packages\\urllib3\\connectionpool.py:857: InsecureRequestWarning: Unverified HTTPS request is being made. Adding certificate verification is strongly advised. See: https://urllib3.readthedocs.io/en/latest/advanced-usage.html#ssl-warnings\n",
      "  InsecureRequestWarning)\n"
     ]
    }
   ],
   "source": [
    "base_url = \"https://www.gikai.metro.tokyo.jp/record/proceedings\"\n",
    "r = http.request('GET', base_url)"
   ]
  },
  {
   "cell_type": "code",
   "execution_count": 4,
   "metadata": {
    "collapsed": false
   },
   "outputs": [
    {
     "data": {
      "text/plain": [
       "b'<!DOCTYPE html>\\n<html lang=\"ja\">\\n<head>\\n<meta charset=\"UTF-8\">\\n<meta name=\"viewport\" content=\"width=device-width, initial-scale=1.0\">\\n<meta name=\"format-detection\" content=\"telephone=no\">\\n<meta name=\"description\" content=\"\\xe9\\x83\\xbd\\xe8\\xad\\xb0\\xe4\\xbc\\x9a\\xe5\\xae\\x9a\\xe4\\xbe\\x8b\\xe4\\xbc\\x9a\\xe3\\x81\\xae\\xe4\\xbc\\x9a\\xe8\\xad\\xb0\\xe9\\x8c\\xb2\\xe3\\x82\\x92\\xe6\\x8e\\xb2\\xe8\\xbc\\x89\\xe3\\x81\\x97\\xe3\\x81\\xa6\\xe3\\x81\\x84\\xe3\\x81\\xbe\\xe3\\x81\\x99\\xe3\\x80\\x82\">\\n<title>\\xe6\\x9c\\xac\\xe4\\xbc\\x9a\\xe8\\xad\\xb0\\xe3\\x81\\xae\\xe4\\xbc\\x9a\\xe8\\xad\\xb0\\xe9\\x8c\\xb2 \\xef\\xbd\\x9c \\xe6\\x9d\\xb1\\xe4\\xba\\xac\\xe9\\x83\\xbd\\xe8\\xad\\xb0\\xe4\\xbc\\x9a</title>\\n<link rel=\"stylesheet\" href=\"../../styles/common.css\">\\n<!--[if lt IE 8]><!--><link rel=\"stylesheet\" href=\"../../styles/ie7.css\"><!--<![endif]-->\\n<script src=\"https://ajax.googleapis.com/ajax/libs/jquery/1.12.4/jquery.min.js\"></script>\\n</head>\\n\\n<body>\\n<div id=\"js-skip\">\\n<a href=\"#contents\">\\xe6\\x9c\\xac\\xe6\\x96\\x87\\xe3\\x81\\xb8\\xe7\\xa7\\xbb\\xe5\\x8b\\x95</a>\\n</div>\\n<div class=\"header\"><!-- header -->\\n\\t<div class=\"inner\"><!-- inner -->\\n\\t\\t<div class=\"hgroup\">\\n\\t\\t\\t<h1><a href=\"../../\"><img src=\"../../images/logo.png\" alt=\"\\xe3\\x83\\xad\\xe3\\x82\\xb4 \\xe6\\x9d\\xb1\\xe4\\xba\\xac\\xe9\\x83\\xbd\\xe8\\xad\\xb0\\xe4\\xbc\\x9a\"></a></h1>\\n\\t\\t\\t<h2>Tokyo Metropolitan Assembly</h2>\\n\\t\\t</div>\\n\\t\\t<div id=\"js-toggle\">\\n\\t\\t\\t<a href=\"#\"><i class=\"fa icon-navicon fa-btn pull-right fa-border\"></i><br><small>\\xe3\\x83\\xa1\\xe3\\x83\\x8b\\xe3\\x83\\xa5\\xe3\\x83\\xbc</small></a>\\n\\t\\t</div>\\n\\n\\t\\t<div class=\"subnav\"><!-- subnav -->\\n\\t\\t\\t<ul>\\n\\t\\t\\t\\t<li><a href=\"../../sitemap.html\" title=\"\\xe3\\x82\\xb5\\xe3\\x82\\xa4\\xe3\\x83\\x88\\xe3\\x83\\x9e\\xe3\\x83\\x83\\xe3\\x83\\x97\\xe3\\x81\\xb8\">\\xe3\\x82\\xb5\\xe3\\x82\\xa4\\xe3\\x83\\x88\\xe3\\x83\\x9e\\xe3\\x83\\x83\\xe3\\x83\\x97</a></li>\\n\\t\\t\\t\\t<li><a href=\"../../mobile.html\" title=\"\\xe3\\x83\\xa2\\xe3\\x83\\x90\\xe3\\x82\\xa4\\xe3\\x83\\xab\\xe3\\x81\\xb8\">\\xe3\\x83\\xa2\\xe3\\x83\\x90\\xe3\\x82\\xa4\\xe3\\x83\\xab</a></li>\\n\\t\\t\\t\\t<li><a href=\"../../english/\" title=\"English\\xe3\\x81\\xb8\">English</a></li>\\n\\t\\t\\t</ul>\\n\\n\\t\\t\\t<div class=\"fontsize\">\\n\\t\\t\\t\\t\\xe6\\x96\\x87\\xe5\\xad\\x97\\xe3\\x82\\xb5\\xe3\\x82\\xa4\\xe3\\x82\\xba<a href=\"javascript:FontSize(\\'large\\')\">\\xe6\\x8b\\xa1\\xe5\\xa4\\xa7</a>\\n\\t\\t\\t\\t<a href=\"javascript:FontSize(\\'default\\')\" class=\"default\">\\xe6\\xa8\\x99\\xe6\\xba\\x96</a>\\n\\t\\t\\t</div>\\n\\n\\t\\t\\t\\t<form name=\"search_form\" action=\"https://search.metro.tokyo.lg.jp/\" method=\"GET\">\\n\\t\\t\\t\\t\\t<dl class=\"search\">\\n\\t\\t\\t\\t\\t\\t<dt><input type=\"text\" name=\"kw\" value=\"\" placeholder=\"\\xe3\\x82\\xad\\xe3\\x83\\xbc\\xe3\\x83\\xaf\\xe3\\x83\\xbc\\xe3\\x83\\x89\\xe3\\x82\\x92\\xe5\\x85\\xa5\\xe5\\x8a\\x9b\" class=\"searchBox\"></dt>\\n\\t\\t\\t\\t\\t\\t<dd><input type=\"submit\" value=\"&#xe614;\" class=\"search-btn\"></dd>\\n\\t\\t\\t\\t\\t\\t<dd><input type=\"hidden\" name=\"temp\" value=\"JP\"></dd>\\n\\t\\t\\t\\t\\t\\t<dd><input type=\"hidden\" name=\"ie\" value=\"u\"></dd>\\n\\t\\t\\t\\t\\t\\t<dd><input type=\"hidden\" name=\"sitesearch\" value=\"www.gikai.metro.tokyo.jp\"></dd>\\n\\t\\t\\t\\t\\t</dl>\\n\\t\\t\\t\\t</form>\\n\\t\\t</div><!--//subnav -->\\n\\t</div><!--//inner -->\\n</div><!--//header -->\\n\\n<div class=\"nav\"><!-- nav -->\\n\\t<nav>\\n\\t\\t<ul>\\n\\t\\t\\t<li><a href=\"../../assembly.html\">\\xe9\\x83\\xbd\\xe8\\xad\\xb0\\xe4\\xbc\\x9a\\xe3\\x81\\xae\\xe7\\xb4\\xb9\\xe4\\xbb\\x8b</a></li><li><a href=\"../../member.html\">\\xe8\\xad\\xb0\\xe5\\x93\\xa1\\xe3\\x81\\xae\\xe7\\xb4\\xb9\\xe4\\xbb\\x8b</a></li><li><a href=\"../../record.html\">\\xe4\\xbc\\x9a\\xe8\\xad\\xb0\\xe3\\x81\\xae\\xe7\\xb5\\x90\\xe6\\x9e\\x9c\\xe3\\x81\\xa8\\xe8\\xa8\\x98\\xe9\\x8c\\xb2</a></li><li><a href=\"../../visit.html\">\\xe5\\x82\\x8d\\xe8\\x81\\xb4\\xe3\\x83\\xbb\\xe8\\xa6\\x8b\\xe5\\xad\\xa6</a></li><li><a href=\"../../work.html\">\\xe8\\xaa\\xbf\\xe6\\x9f\\xbb\\xe3\\x83\\xbb\\xe5\\x8f\\x8b\\xe5\\xa5\\xbd\\xe4\\xba\\xa4\\xe6\\xb5\\x81\\xe3\\x81\\xaa\\xe3\\x81\\xa9</a></li>\\n\\t\\t</ul>\\n\\t</nav>\\n</div><!--//nav -->\\n\\n<div class=\"breadcrumb\"><!-- \\xe3\\x83\\x91\\xe3\\x83\\xb3\\xe3\\x81\\x8f\\xe3\\x81\\x9a\\xe3\\x83\\xaa\\xe3\\x82\\xb9\\xe3\\x83\\x88 -->\\n\\t<nav>\\n\\t\\t<ol>\\n\\t\\t\\t<li itemscope itemtype=\"http://data-vocabulary.org/Breadcrumb\"><a itemprop=\"url\" href=\"../../\"><span itemprop=\"title\">\\xe3\\x83\\x88\\xe3\\x83\\x83\\xe3\\x83\\x97</span></a></li>\\n\\t\\t\\t<li itemscope itemtype=\"http://data-vocabulary.org/Breadcrumb\"><a itemprop=\"url\" href=\"../../record.html\"><span itemprop=\"title\">\\xe4\\xbc\\x9a\\xe8\\xad\\xb0\\xe3\\x81\\xae\\xe7\\xb5\\x90\\xe6\\x9e\\x9c\\xe3\\x81\\xa8\\xe8\\xa8\\x98\\xe9\\x8c\\xb2</span></a></li>\\n\\t\\t\\t<li itemscope itemtype=\"http://data-vocabulary.org/Breadcrumb\"><a itemprop=\"url\" href=\"./\"><span itemprop=\"title\">\\xe6\\x9c\\xac\\xe4\\xbc\\x9a\\xe8\\xad\\xb0\\xe3\\x81\\xae\\xe4\\xbc\\x9a\\xe8\\xad\\xb0\\xe9\\x8c\\xb2</span></a></li>\\n\\t\\t</ol>\\n\\t</nav>\\n</div><!--//\\xe3\\x83\\x91\\xe3\\x83\\xb3\\xe3\\x81\\x8f\\xe3\\x81\\x9a\\xe3\\x83\\xaa\\xe3\\x82\\xb9\\xe3\\x83\\x88 -->\\n\\n\\n<div class=\"contents\" id=\"contents\"><!-- contents -->\\n\\t<div class=\"inner\">\\n\\t\\t<div class=\"page list\"><!-- page -->\\n\\t\\t\\t<h3>\\xe6\\x9c\\xac\\xe4\\xbc\\x9a\\xe8\\xad\\xb0\\xe3\\x81\\xae\\xe4\\xbc\\x9a\\xe8\\xad\\xb0\\xe9\\x8c\\xb2</h3>\\n\\t\\t\\t\\t<p class=\"notes\">\\xe6\\x9d\\xb1\\xe4\\xba\\xac\\xe9\\x83\\xbd\\xe8\\xad\\xb0\\xe4\\xbc\\x9a\\xe3\\x81\\x8c\\xe4\\xbd\\x9c\\xe6\\x88\\x90\\xe3\\x81\\x97\\xe3\\x81\\xa6\\xe3\\x81\\x84\\xe3\\x82\\x8b\\xe4\\xbc\\x9a\\xe8\\xad\\xb0\\xe8\\xa8\\x98\\xe9\\x8c\\xb2\\xef\\xbc\\x88\\xe5\\x86\\x8a\\xe5\\xad\\x90\\xef\\xbc\\x89\\xe3\\x81\\xae\\xe4\\xb8\\x80\\xe9\\x83\\xa8\\xef\\xbc\\x88\\xe8\\xad\\xb0\\xe6\\xa1\\x88\\xe3\\x81\\xaa\\xe3\\x81\\xa9\\xe3\\x82\\x92\\xe9\\x99\\xa4\\xe3\\x81\\x8d\\xe3\\x81\\xbe\\xe3\\x81\\x99\\xe3\\x80\\x82\\xef\\xbc\\x89\\xe3\\x82\\x92HTML\\xe5\\x8c\\x96\\xe3\\x81\\x97\\xe3\\x81\\x9f\\xe3\\x82\\x82\\xe3\\x81\\xae\\xe3\\x81\\xa7\\xe3\\x80\\x81\\xe5\\x8e\\x9f\\xe6\\x9c\\xac\\xe3\\x81\\xa8\\xe3\\x81\\xaf\\xe5\\xbd\\xa2\\xe5\\xbc\\x8f\\xe3\\x81\\x8c\\xe7\\x95\\xb0\\xe3\\x81\\xaa\\xe3\\x82\\x8a\\xe3\\x81\\xbe\\xe3\\x81\\x99\\xe3\\x80\\x82\\xe3\\x81\\xbe\\xe3\\x81\\x9f\\xe3\\x80\\x81\\xe4\\xba\\xba\\xe5\\x90\\x8d\\xe3\\x82\\x84\\xe5\\x9c\\xb0\\xe5\\x90\\x8d\\xe3\\x81\\xaa\\xe3\\x81\\xa9\\xe3\\x81\\xae\\xe6\\x96\\x87\\xe5\\xad\\x97\\xe3\\x82\\x82\\xe7\\xac\\xac2\\xe6\\xb0\\xb4\\xe6\\xba\\x96\\xe3\\x81\\xbe\\xe3\\x81\\xa7\\xe3\\x81\\xae\\xe6\\xbc\\xa2\\xe5\\xad\\x97\\xe3\\x81\\xa7\\xe6\\xa7\\x8b\\xe6\\x88\\x90\\xe3\\x81\\x95\\xe3\\x82\\x8c\\xe3\\x82\\x8b\\xe3\\x81\\x9f\\xe3\\x82\\x81\\xe3\\x80\\x81\\xe4\\xbc\\x9a\\xe8\\xad\\xb0\\xe8\\xa8\\x98\\xe9\\x8c\\xb2\\xe3\\x81\\xa8\\xe7\\x95\\xb0\\xe3\\x81\\xaa\\xe3\\x82\\x8b\\xe5\\xa0\\xb4\\xe5\\x90\\x88\\xe3\\x81\\x8c\\xe3\\x81\\x82\\xe3\\x82\\x8a\\xe3\\x81\\xbe\\xe3\\x81\\x99\\xe3\\x80\\x82</p>\\n\\t\\t\\t\\t<ul>\\n\\t\\t\\t\\t\\t<li><a href=\"2018-3/\">\\xe5\\xb9\\xb3\\xe6\\x88\\x9030\\xe5\\xb9\\xb4\\xe7\\xac\\xac3\\xe5\\x9b\\x9e\\xe5\\xae\\x9a\\xe4\\xbe\\x8b\\xe4\\xbc\\x9a\\xef\\xbc\\x889\\xe6\\x9c\\x8819\\xe6\\x97\\xa5\\xe3\\x81\\x8b\\xe3\\x82\\x8910\\xe6\\x9c\\x885\\xe6\\x97\\xa5\\xef\\xbc\\x89\\xe3\\x80\\x94\\xe6\\x9c\\xac\\xe4\\xbc\\x9a\\xe8\\xad\\xb0\\xe7\\xac\\xac\\xe4\\xba\\x8c\\xe6\\x97\\xa5\\xe3\\x80\\x81\\xe7\\xac\\xac\\xe4\\xb8\\x89\\xe6\\x97\\xa5\\xe9\\x80\\x9f\\xe5\\xa0\\xb1\\xe7\\x89\\x88\\xe3\\x80\\x95</a></li>\\n\\t\\t\\t\\t\\t<li><a href=\"2018-2/\">\\xe5\\xb9\\xb3\\xe6\\x88\\x9030\\xe5\\xb9\\xb4\\xe7\\xac\\xac2\\xe5\\x9b\\x9e\\xe5\\xae\\x9a\\xe4\\xbe\\x8b\\xe4\\xbc\\x9a\\xef\\xbc\\x886\\xe6\\x9c\\x8812\\xe6\\x97\\xa5\\xe3\\x81\\x8b\\xe3\\x82\\x896\\xe6\\x9c\\x8827\\xe6\\x97\\xa5\\xef\\xbc\\x89</a></li>\\n\\t\\t\\t\\t\\t<li><a href=\"2018-1/\">\\xe5\\xb9\\xb3\\xe6\\x88\\x9030\\xe5\\xb9\\xb4\\xe7\\xac\\xac1\\xe5\\x9b\\x9e\\xe5\\xae\\x9a\\xe4\\xbe\\x8b\\xe4\\xbc\\x9a\\xef\\xbc\\x882\\xe6\\x9c\\x8821\\xe6\\x97\\xa5\\xe3\\x81\\x8b\\xe3\\x82\\x893\\xe6\\x9c\\x8829\\xe6\\x97\\xa5\\xef\\xbc\\x89</a></li>\\n\\t\\t\\t\\t</ul>\\n\\t\\t\\t\\t<ul>\\n\\t\\t\\t\\t\\t<li><a href=\"2017-4/\">\\xe5\\xb9\\xb3\\xe6\\x88\\x9029\\xe5\\xb9\\xb4\\xe7\\xac\\xac4\\xe5\\x9b\\x9e\\xe5\\xae\\x9a\\xe4\\xbe\\x8b\\xe4\\xbc\\x9a\\xef\\xbc\\x8812\\xe6\\x9c\\x881\\xe6\\x97\\xa5\\xe3\\x81\\x8b\\xe3\\x82\\x8912\\xe6\\x9c\\x8815\\xe6\\x97\\xa5\\xef\\xbc\\x89</a></li>\\n\\t\\t\\t\\t\\t<li><a href=\"2017-3/\">\\xe5\\xb9\\xb3\\xe6\\x88\\x9029\\xe5\\xb9\\xb4\\xe7\\xac\\xac3\\xe5\\x9b\\x9e\\xe5\\xae\\x9a\\xe4\\xbe\\x8b\\xe4\\xbc\\x9a\\xef\\xbc\\x889\\xe6\\x9c\\x8820\\xe6\\x97\\xa5\\xe3\\x81\\x8b\\xe3\\x82\\x8910\\xe6\\x9c\\x885\\xe6\\x97\\xa5\\xef\\xbc\\x89</a></li>\\n\\t\\t\\t\\t\\t<li><a href=\"../extraordinary/2017-2.html\">\\xe5\\xb9\\xb3\\xe6\\x88\\x9029\\xe5\\xb9\\xb4\\xe7\\xac\\xac2\\xe5\\x9b\\x9e\\xe8\\x87\\xa8\\xe6\\x99\\x82\\xe4\\xbc\\x9a\\xef\\xbc\\x888\\xe6\\x9c\\x8828\\xe6\\x97\\xa5\\xe3\\x81\\x8b\\xe3\\x82\\x899\\xe6\\x9c\\x885\\xe6\\x97\\xa5\\xef\\xbc\\x89</a></li>\\n\\t\\t\\t\\t\\t<li><a href=\"../extraordinary/2017-1.html\">\\xe5\\xb9\\xb3\\xe6\\x88\\x9029\\xe5\\xb9\\xb4\\xe7\\xac\\xac1\\xe5\\x9b\\x9e\\xe8\\x87\\xa8\\xe6\\x99\\x82\\xe4\\xbc\\x9a\\xef\\xbc\\x888\\xe6\\x9c\\x888\\xe6\\x97\\xa5\\xef\\xbc\\x89</a></li>\\n\\t\\t\\t\\t\\t<li><a href=\"2017-2/\">\\xe5\\xb9\\xb3\\xe6\\x88\\x9029\\xe5\\xb9\\xb4\\xe7\\xac\\xac2\\xe5\\x9b\\x9e\\xe5\\xae\\x9a\\xe4\\xbe\\x8b\\xe4\\xbc\\x9a\\xef\\xbc\\x886\\xe6\\x9c\\x881\\xe6\\x97\\xa5\\xe3\\x81\\x8b\\xe3\\x82\\x896\\xe6\\x9c\\x887\\xe6\\x97\\xa5\\xef\\xbc\\x89</a></li>\\n\\t\\t\\t\\t\\t<li><a href=\"2017-1/\">\\xe5\\xb9\\xb3\\xe6\\x88\\x9029\\xe5\\xb9\\xb4\\xe7\\xac\\xac1\\xe5\\x9b\\x9e\\xe5\\xae\\x9a\\xe4\\xbe\\x8b\\xe4\\xbc\\x9a\\xef\\xbc\\x882\\xe6\\x9c\\x8822\\xe6\\x97\\xa5\\xe3\\x81\\x8b\\xe3\\x82\\x893\\xe6\\x9c\\x8830\\xe6\\x97\\xa5\\xef\\xbc\\x89</a></li>\\n\\t\\t\\t\\t</ul>\\n\\t\\t\\t\\t<ul>\\n\\t\\t\\t\\t\\t<li><a href=\"2016-4/\">\\xe5\\xb9\\xb3\\xe6\\x88\\x9028\\xe5\\xb9\\xb4\\xe7\\xac\\xac4\\xe5\\x9b\\x9e\\xe5\\xae\\x9a\\xe4\\xbe\\x8b\\xe4\\xbc\\x9a\\xef\\xbc\\x8812\\xe6\\x9c\\x881\\xe6\\x97\\xa5\\xe3\\x81\\x8b\\xe3\\x82\\x8912\\xe6\\x9c\\x8815\\xe6\\x97\\xa5\\xef\\xbc\\x89</a></li>\\n\\t\\t\\t\\t\\t<li><a href=\"2016-3/\">\\xe5\\xb9\\xb3\\xe6\\x88\\x9028\\xe5\\xb9\\xb4\\xe7\\xac\\xac3\\xe5\\x9b\\x9e\\xe5\\xae\\x9a\\xe4\\xbe\\x8b\\xe4\\xbc\\x9a\\xef\\xbc\\x889\\xe6\\x9c\\x8828\\xe6\\x97\\xa5\\xe3\\x81\\x8b\\xe3\\x82\\x8910\\xe6\\x9c\\x8813\\xe6\\x97\\xa5\\xef\\xbc\\x89</a></li>\\n\\t\\t\\t\\t\\t<li><a href=\"2016-2/\">\\xe5\\xb9\\xb3\\xe6\\x88\\x9028\\xe5\\xb9\\xb4\\xe7\\xac\\xac2\\xe5\\x9b\\x9e\\xe5\\xae\\x9a\\xe4\\xbe\\x8b\\xe4\\xbc\\x9a\\xef\\xbc\\x886\\xe6\\x9c\\x881\\xe6\\x97\\xa5\\xe3\\x81\\x8b\\xe3\\x82\\x896\\xe6\\x9c\\x8815\\xe6\\x97\\xa5\\xef\\xbc\\x89</a></li>\\n\\t\\t\\t\\t\\t<li><a href=\"2016-1/\">\\xe5\\xb9\\xb3\\xe6\\x88\\x9028\\xe5\\xb9\\xb4\\xe7\\xac\\xac1\\xe5\\x9b\\x9e\\xe5\\xae\\x9a\\xe4\\xbe\\x8b\\xe4\\xbc\\x9a\\xef\\xbc\\x882\\xe6\\x9c\\x8817\\xe6\\x97\\xa5\\xe3\\x81\\x8b\\xe3\\x82\\x893\\xe6\\x9c\\x8825\\xe6\\x97\\xa5\\xef\\xbc\\x89</a></li>\\n\\t\\t\\t\\t</ul>\\n\\t\\t\\t\\t<ul>\\n\\t\\t\\t\\t\\t<li><a href=\"2015-4/\">\\xe5\\xb9\\xb3\\xe6\\x88\\x9027\\xe5\\xb9\\xb4\\xe7\\xac\\xac4\\xe5\\x9b\\x9e\\xe5\\xae\\x9a\\xe4\\xbe\\x8b\\xe4\\xbc\\x9a\\xef\\xbc\\x8812\\xe6\\x9c\\x881\\xe6\\x97\\xa5\\xe3\\x81\\x8b\\xe3\\x82\\x8912\\xe6\\x9c\\x8816\\xe6\\x97\\xa5\\xef\\xbc\\x89</a></li>\\n\\t\\t\\t\\t\\t<li><a href=\"2015-3/\">\\xe5\\xb9\\xb3\\xe6\\x88\\x9027\\xe5\\xb9\\xb4\\xe7\\xac\\xac3\\xe5\\x9b\\x9e\\xe5\\xae\\x9a\\xe4\\xbe\\x8b\\xe4\\xbc\\x9a\\xef\\xbc\\x889\\xe6\\x9c\\x8818\\xe6\\x97\\xa5\\xe3\\x81\\x8b\\xe3\\x82\\x8910\\xe6\\x9c\\x888\\xe6\\x97\\xa5\\xef\\xbc\\x89</a></li>\\n\\t\\t\\t\\t\\t<li><a href=\"2015-2/\">\\xe5\\xb9\\xb3\\xe6\\x88\\x9027\\xe5\\xb9\\xb4\\xe7\\xac\\xac2\\xe5\\x9b\\x9e\\xe5\\xae\\x9a\\xe4\\xbe\\x8b\\xe4\\xbc\\x9a\\xef\\xbc\\x886\\xe6\\x9c\\x889\\xe6\\x97\\xa5\\xe3\\x81\\x8b\\xe3\\x82\\x896\\xe6\\x9c\\x8824\\xe6\\x97\\xa5\\xef\\xbc\\x89</a></li>\\n\\t\\t\\t\\t\\t<li><a href=\"2015-1/\">\\xe5\\xb9\\xb3\\xe6\\x88\\x9027\\xe5\\xb9\\xb4\\xe7\\xac\\xac1\\xe5\\x9b\\x9e\\xe5\\xae\\x9a\\xe4\\xbe\\x8b\\xe4\\xbc\\x9a\\xef\\xbc\\x882\\xe6\\x9c\\x8818\\xe6\\x97\\xa5\\xe3\\x81\\x8b\\xe3\\x82\\x893\\xe6\\x9c\\x8827\\xe6\\x97\\xa5\\xef\\xbc\\x89</a></li>\\n\\t\\t\\t\\t</ul>\\n\\t\\t\\t\\t<ul>\\n\\t\\t\\t\\t\\t<li><a href=\"2014-4/\">\\xe5\\xb9\\xb3\\xe6\\x88\\x9026\\xe5\\xb9\\xb4\\xe7\\xac\\xac4\\xe5\\x9b\\x9e\\xe5\\xae\\x9a\\xe4\\xbe\\x8b\\xe4\\xbc\\x9a\\xef\\xbc\\x8811\\xe6\\x9c\\x8828\\xe6\\x97\\xa5\\xe3\\x81\\x8b\\xe3\\x82\\x8912\\xe6\\x9c\\x8825\\xe6\\x97\\xa5\\xef\\xbc\\x89</a></li>\\n\\t\\t\\t\\t\\t<li><a href=\"2014-3/\">\\xe5\\xb9\\xb3\\xe6\\x88\\x9026\\xe5\\xb9\\xb4\\xe7\\xac\\xac3\\xe5\\x9b\\x9e\\xe5\\xae\\x9a\\xe4\\xbe\\x8b\\xe4\\xbc\\x9a\\xef\\xbc\\x889\\xe6\\x9c\\x8817\\xe6\\x97\\xa5\\xe3\\x81\\x8b\\xe3\\x82\\x8910\\xe6\\x9c\\x883\\xe6\\x97\\xa5\\xef\\xbc\\x89</a></li>\\n\\t\\t\\t\\t\\t<li><a href=\"2014-2/\">\\xe5\\xb9\\xb3\\xe6\\x88\\x9026\\xe5\\xb9\\xb4\\xe7\\xac\\xac2\\xe5\\x9b\\x9e\\xe5\\xae\\x9a\\xe4\\xbe\\x8b\\xe4\\xbc\\x9a\\xef\\xbc\\x886\\xe6\\x9c\\x8810\\xe6\\x97\\xa5\\xe3\\x81\\x8b\\xe3\\x82\\x896\\xe6\\x9c\\x8825\\xe6\\x97\\xa5\\xef\\xbc\\x89</a></li>\\n\\t\\t\\t\\t\\t<li><a href=\"2014-1/\">\\xe5\\xb9\\xb3\\xe6\\x88\\x9026\\xe5\\xb9\\xb4\\xe7\\xac\\xac1\\xe5\\x9b\\x9e\\xe5\\xae\\x9a\\xe4\\xbe\\x8b\\xe4\\xbc\\x9a\\xef\\xbc\\x882\\xe6\\x9c\\x8826\\xe6\\x97\\xa5\\xe3\\x81\\x8b\\xe3\\x82\\x893\\xe6\\x9c\\x8828\\xe6\\x97\\xa5\\xef\\xbc\\x89</a></li>\\n\\t\\t\\t\\t</ul>\\n\\t\\t\\t\\t<ul>\\n\\t\\t\\t\\t\\t<li><a href=\"../extraordinary/2013-2.html\">\\xe5\\xb9\\xb3\\xe6\\x88\\x9025\\xe5\\xb9\\xb4\\xe7\\xac\\xac2\\xe5\\x9b\\x9e\\xe8\\x87\\xa8\\xe6\\x99\\x82\\xe4\\xbc\\x9a\\xef\\xbc\\x8812\\xe6\\x9c\\x8824\\xe6\\x97\\xa5\\xef\\xbc\\x89</a></li>\\n\\t\\t\\t\\t\\t<li><a href=\"2013-4/\">\\xe5\\xb9\\xb3\\xe6\\x88\\x9025\\xe5\\xb9\\xb4\\xe7\\xac\\xac4\\xe5\\x9b\\x9e\\xe5\\xae\\x9a\\xe4\\xbe\\x8b\\xe4\\xbc\\x9a\\xef\\xbc\\x8811\\xe6\\x9c\\x8829\\xe6\\x97\\xa5\\xe3\\x81\\x8b\\xe3\\x82\\x8912\\xe6\\x9c\\x8813\\xe6\\x97\\xa5\\xef\\xbc\\x89</a></li>\\n\\t\\t\\t\\t\\t<li><a href=\"2013-3/\">\\xe5\\xb9\\xb3\\xe6\\x88\\x9025\\xe5\\xb9\\xb4\\xe7\\xac\\xac3\\xe5\\x9b\\x9e\\xe5\\xae\\x9a\\xe4\\xbe\\x8b\\xe4\\xbc\\x9a\\xef\\xbc\\x889\\xe6\\x9c\\x8818\\xe6\\x97\\xa5\\xe3\\x81\\x8b\\xe3\\x82\\x8910\\xe6\\x9c\\x8811\\xe6\\x97\\xa5\\xef\\xbc\\x89</a></li>\\n\\t\\t\\t\\t\\t<li><a href=\"../extraordinary/2013-1.html\">\\xe5\\xb9\\xb3\\xe6\\x88\\x9025\\xe5\\xb9\\xb4\\xe7\\xac\\xac1\\xe5\\x9b\\x9e\\xe8\\x87\\xa8\\xe6\\x99\\x82\\xe4\\xbc\\x9a\\xef\\xbc\\x888\\xe6\\x9c\\x888\\xe6\\x97\\xa5\\xef\\xbc\\x89</a></li>\\n\\t\\t\\t\\t\\t<li><a href=\"2013-2/\">\\xe5\\xb9\\xb3\\xe6\\x88\\x9025\\xe5\\xb9\\xb4\\xe7\\xac\\xac2\\xe5\\x9b\\x9e\\xe5\\xae\\x9a\\xe4\\xbe\\x8b\\xe4\\xbc\\x9a\\xef\\xbc\\x886\\xe6\\x9c\\x883\\xe6\\x97\\xa5\\xe3\\x81\\x8b\\xe3\\x82\\x896\\xe6\\x9c\\x887\\xe6\\x97\\xa5\\xef\\xbc\\x89</a></li>\\n\\t\\t\\t\\t\\t<li><a href=\"2013-1/\">\\xe5\\xb9\\xb3\\xe6\\x88\\x9025\\xe5\\xb9\\xb4\\xe7\\xac\\xac1\\xe5\\x9b\\x9e\\xe5\\xae\\x9a\\xe4\\xbe\\x8b\\xe4\\xbc\\x9a\\xef\\xbc\\x882\\xe6\\x9c\\x8820\\xe6\\x97\\xa5\\xe3\\x81\\x8b\\xe3\\x82\\x893\\xe6\\x9c\\x8828\\xe6\\x97\\xa5\\xef\\xbc\\x89</a></li>\\n\\t\\t\\t\\t</ul>\\n\\t\\t\\t\\t<ul>\\n\\t\\t\\t\\t\\t<li><a href=\"2012-4/\">\\xe5\\xb9\\xb3\\xe6\\x88\\x9024\\xe5\\xb9\\xb4\\xe7\\xac\\xac4\\xe5\\x9b\\x9e\\xe5\\xae\\x9a\\xe4\\xbe\\x8b\\xe4\\xbc\\x9a\\xef\\xbc\\x8811\\xe6\\x9c\\x8830\\xe6\\x97\\xa5\\xe3\\x81\\x8b\\xe3\\x82\\x8912\\xe6\\x9c\\x886\\xe6\\x97\\xa5\\xef\\xbc\\x89</a></li>\\n\\t\\t\\t\\t\\t<li><a href=\"../extraordinary/2012-1.html\">\\xe5\\xb9\\xb3\\xe6\\x88\\x9024\\xe5\\xb9\\xb4\\xe7\\xac\\xac1\\xe5\\x9b\\x9e\\xe8\\x87\\xa8\\xe6\\x99\\x82\\xe4\\xbc\\x9a\\xef\\xbc\\x8810\\xe6\\x9c\\x8831\\xe6\\x97\\xa5\\xef\\xbc\\x89</a></li>\\n\\t\\t\\t\\t\\t<li><a href=\"2012-3/\">\\xe5\\xb9\\xb3\\xe6\\x88\\x9024\\xe5\\xb9\\xb4\\xe7\\xac\\xac3\\xe5\\x9b\\x9e\\xe5\\xae\\x9a\\xe4\\xbe\\x8b\\xe4\\xbc\\x9a\\xef\\xbc\\x889\\xe6\\x9c\\x8819\\xe6\\x97\\xa5\\xe3\\x81\\x8b\\xe3\\x82\\x8910\\xe6\\x9c\\x884\\xe6\\x97\\xa5\\xef\\xbc\\x89</a></li>\\n\\t\\t\\t\\t\\t<li><a href=\"2012-2/\">\\xe5\\xb9\\xb3\\xe6\\x88\\x9024\\xe5\\xb9\\xb4\\xe7\\xac\\xac2\\xe5\\x9b\\x9e\\xe5\\xae\\x9a\\xe4\\xbe\\x8b\\xe4\\xbc\\x9a\\xef\\xbc\\x886\\xe6\\x9c\\x885\\xe6\\x97\\xa5\\xe3\\x81\\x8b\\xe3\\x82\\x896\\xe6\\x9c\\x8820\\xe6\\x97\\xa5\\xef\\xbc\\x89</a></li>\\n\\t\\t\\t\\t\\t<li><a href=\"2012-1/\">\\xe5\\xb9\\xb3\\xe6\\x88\\x9024\\xe5\\xb9\\xb4\\xe7\\xac\\xac1\\xe5\\x9b\\x9e\\xe5\\xae\\x9a\\xe4\\xbe\\x8b\\xe4\\xbc\\x9a\\xef\\xbc\\x882\\xe6\\x9c\\x8822\\xe6\\x97\\xa5\\xe3\\x81\\x8b\\xe3\\x82\\x893\\xe6\\x9c\\x8829\\xe6\\x97\\xa5\\xef\\xbc\\x89</a></li>\\n\\t\\t\\t\\t</ul>\\n\\t\\t\\t\\t<ul>\\n\\t\\t\\t\\t\\t<li><a href=\"2011-4/\">\\xe5\\xb9\\xb3\\xe6\\x88\\x9023\\xe5\\xb9\\xb4\\xe7\\xac\\xac4\\xe5\\x9b\\x9e\\xe5\\xae\\x9a\\xe4\\xbe\\x8b\\xe4\\xbc\\x9a\\xef\\xbc\\x8811\\xe6\\x9c\\x8830\\xe6\\x97\\xa5\\xe3\\x81\\x8b\\xe3\\x82\\x8912\\xe6\\x9c\\x8815\\xe6\\x97\\xa5\\xef\\xbc\\x89</a></li>\\n\\t\\t\\t\\t\\t<li><a href=\"2011-3/\">\\xe5\\xb9\\xb3\\xe6\\x88\\x9023\\xe5\\xb9\\xb4\\xe7\\xac\\xac3\\xe5\\x9b\\x9e\\xe5\\xae\\x9a\\xe4\\xbe\\x8b\\xe4\\xbc\\x9a\\xef\\xbc\\x889\\xe6\\x9c\\x8821\\xe6\\x97\\xa5\\xe3\\x81\\x8b\\xe3\\x82\\x8910\\xe6\\x9c\\x8818\\xe6\\x97\\xa5\\xef\\xbc\\x89</a></li>\\n\\t\\t\\t\\t\\t<li><a href=\"2011-2/\">\\xe5\\xb9\\xb3\\xe6\\x88\\x9023\\xe5\\xb9\\xb4\\xe7\\xac\\xac2\\xe5\\x9b\\x9e\\xe5\\xae\\x9a\\xe4\\xbe\\x8b\\xe4\\xbc\\x9a\\xef\\xbc\\x886\\xe6\\x9c\\x8817\\xe6\\x97\\xa5\\xe3\\x81\\x8b\\xe3\\x82\\x897\\xe6\\x9c\\x881\\xe6\\x97\\xa5\\xef\\xbc\\x89</a></li>\\n\\t\\t\\t\\t\\t<li><a href=\"2011-1/\">\\xe5\\xb9\\xb3\\xe6\\x88\\x9023\\xe5\\xb9\\xb4\\xe7\\xac\\xac1\\xe5\\x9b\\x9e\\xe5\\xae\\x9a\\xe4\\xbe\\x8b\\xe4\\xbc\\x9a\\xef\\xbc\\x882\\xe6\\x9c\\x888\\xe6\\x97\\xa5\\xe3\\x81\\x8b\\xe3\\x82\\x893\\xe6\\x9c\\x8811\\xe6\\x97\\xa5\\xef\\xbc\\x89</a></li>\\n\\t\\t\\t\\t</ul>\\n\\t\\t\\t\\t<ul>\\n\\t\\t\\t\\t\\t<li><a href=\"2010-4/\">\\xe5\\xb9\\xb3\\xe6\\x88\\x9022\\xe5\\xb9\\xb4\\xe7\\xac\\xac4\\xe5\\x9b\\x9e\\xe5\\xae\\x9a\\xe4\\xbe\\x8b\\xe4\\xbc\\x9a\\xef\\xbc\\x8811\\xe6\\x9c\\x8830\\xe6\\x97\\xa5\\xe3\\x81\\x8b\\xe3\\x82\\x8912\\xe6\\x9c\\x8815\\xe6\\x97\\xa5\\xef\\xbc\\x89</a></li>\\n\\t\\t\\t\\t\\t<li><a href=\"2010-3/\">\\xe5\\xb9\\xb3\\xe6\\x88\\x9022\\xe5\\xb9\\xb4\\xe7\\xac\\xac3\\xe5\\x9b\\x9e\\xe5\\xae\\x9a\\xe4\\xbe\\x8b\\xe4\\xbc\\x9a\\xef\\xbc\\x889\\xe6\\x9c\\x8821\\xe6\\x97\\xa5\\xe3\\x81\\x8b\\xe3\\x82\\x8910\\xe6\\x9c\\x887\\xe6\\x97\\xa5\\xef\\xbc\\x89</a></li>\\n\\t\\t\\t\\t\\t<li><a href=\"2010-2/\">\\xe5\\xb9\\xb3\\xe6\\x88\\x9022\\xe5\\xb9\\xb4\\xe7\\xac\\xac2\\xe5\\x9b\\x9e\\xe5\\xae\\x9a\\xe4\\xbe\\x8b\\xe4\\xbc\\x9a\\xef\\xbc\\x886\\xe6\\x9c\\x881\\xe6\\x97\\xa5\\xe3\\x81\\x8b\\xe3\\x82\\x896\\xe6\\x9c\\x8816\\xe6\\x97\\xa5\\xef\\xbc\\x89</a></li>\\n\\t\\t\\t\\t\\t<li><a href=\"2010-1/\">\\xe5\\xb9\\xb3\\xe6\\x88\\x9022\\xe5\\xb9\\xb4\\xe7\\xac\\xac1\\xe5\\x9b\\x9e\\xe5\\xae\\x9a\\xe4\\xbe\\x8b\\xe4\\xbc\\x9a\\xef\\xbc\\x882\\xe6\\x9c\\x8824\\xe6\\x97\\xa5\\xe3\\x81\\x8b\\xe3\\x82\\x893\\xe6\\x9c\\x8830\\xe6\\x97\\xa5\\xef\\xbc\\x89</a></li>\\n\\t\\t\\t\\t</ul>\\n\\t\\t\\t\\t<ul>\\n\\t\\t\\t\\t\\t<li><a href=\"2009-4/\">\\xe5\\xb9\\xb3\\xe6\\x88\\x9021\\xe5\\xb9\\xb4\\xe7\\xac\\xac4\\xe5\\x9b\\x9e\\xe5\\xae\\x9a\\xe4\\xbe\\x8b\\xe4\\xbc\\x9a\\xef\\xbc\\x8812\\xe6\\x9c\\x881\\xe6\\x97\\xa5\\xe3\\x81\\x8b\\xe3\\x82\\x8912\\xe6\\x9c\\x8816\\xe6\\x97\\xa5\\xef\\xbc\\x89</a></li>\\n\\t\\t\\t\\t\\t<li><a href=\"2009-3/\">\\xe5\\xb9\\xb3\\xe6\\x88\\x9021\\xe5\\xb9\\xb4\\xe7\\xac\\xac3\\xe5\\x9b\\x9e\\xe5\\xae\\x9a\\xe4\\xbe\\x8b\\xe4\\xbc\\x9a\\xef\\xbc\\x889\\xe6\\x9c\\x887\\xe6\\x97\\xa5\\xe3\\x81\\x8b\\xe3\\x82\\x899\\xe6\\x9c\\x8825\\xe6\\x97\\xa5\\xef\\xbc\\x89</a></li>\\n\\t\\t\\t\\t\\t<li><a href=\"../extraordinary/2009-3.html\">\\xe5\\xb9\\xb3\\xe6\\x88\\x9021\\xe5\\xb9\\xb4\\xe7\\xac\\xac3\\xe5\\x9b\\x9e\\xe8\\x87\\xa8\\xe6\\x99\\x82\\xe4\\xbc\\x9a\\xef\\xbc\\x888\\xe6\\x9c\\x8831\\xe6\\x97\\xa5\\xef\\xbc\\x89</a></li>\\n\\t\\t\\t\\t\\t<li><a href=\"../extraordinary/2009-2.html\">\\xe5\\xb9\\xb3\\xe6\\x88\\x9021\\xe5\\xb9\\xb4\\xe7\\xac\\xac2\\xe5\\x9b\\x9e\\xe8\\x87\\xa8\\xe6\\x99\\x82\\xe4\\xbc\\x9a\\xef\\xbc\\x888\\xe6\\x9c\\x8810\\xe6\\x97\\xa5\\xef\\xbc\\x89</a></li>\\n\\t\\t\\t\\t\\t<li><a href=\"2009-2/\">\\xe5\\xb9\\xb3\\xe6\\x88\\x9021\\xe5\\xb9\\xb4\\xe7\\xac\\xac2\\xe5\\x9b\\x9e\\xe5\\xae\\x9a\\xe4\\xbe\\x8b\\xe4\\xbc\\x9a\\xef\\xbc\\x886\\xe6\\x9c\\x881\\xe6\\x97\\xa5\\xe3\\x81\\x8b\\xe3\\x82\\x896\\xe6\\x9c\\x885\\xe6\\x97\\xa5\\xef\\xbc\\x89</a></li>\\n\\t\\t\\t\\t\\t<li><a href=\"../extraordinary/2009-1.html\">\\xe5\\xb9\\xb3\\xe6\\x88\\x9021\\xe5\\xb9\\xb4\\xe7\\xac\\xac1\\xe5\\x9b\\x9e\\xe8\\x87\\xa8\\xe6\\x99\\x82\\xe4\\xbc\\x9a\\xef\\xbc\\x885\\xe6\\x9c\\x8829\\xe6\\x97\\xa5\\xef\\xbc\\x89</a></li>\\n\\t\\t\\t\\t\\t<li><a href=\"2009-1/\">\\xe5\\xb9\\xb3\\xe6\\x88\\x9021\\xe5\\xb9\\xb4\\xe7\\xac\\xac1\\xe5\\x9b\\x9e\\xe5\\xae\\x9a\\xe4\\xbe\\x8b\\xe4\\xbc\\x9a\\xef\\xbc\\x882\\xe6\\x9c\\x8818\\xe6\\x97\\xa5\\xe3\\x81\\x8b\\xe3\\x82\\x893\\xe6\\x9c\\x8827\\xe6\\x97\\xa5\\xef\\xbc\\x89</a></li>\\n\\t\\t\\t\\t</ul>\\n\\t\\t\\t\\t<ul>\\n\\t\\t\\t\\t\\t<li><a href=\"2008-4/\">\\xe5\\xb9\\xb3\\xe6\\x88\\x9020\\xe5\\xb9\\xb4\\xe7\\xac\\xac4\\xe5\\x9b\\x9e\\xe5\\xae\\x9a\\xe4\\xbe\\x8b\\xe4\\xbc\\x9a\\xef\\xbc\\x8812\\xe6\\x9c\\x882\\xe6\\x97\\xa5\\xe3\\x81\\x8b\\xe3\\x82\\x8912\\xe6\\x9c\\x8817\\xe6\\x97\\xa5\\xef\\xbc\\x89</a></li>\\n\\t\\t\\t\\t\\t<li><a href=\"2008-3/\">\\xe5\\xb9\\xb3\\xe6\\x88\\x9020\\xe5\\xb9\\xb4\\xe7\\xac\\xac3\\xe5\\x9b\\x9e\\xe5\\xae\\x9a\\xe4\\xbe\\x8b\\xe4\\xbc\\x9a\\xef\\xbc\\x889\\xe6\\x9c\\x8818\\xe6\\x97\\xa5\\xe3\\x81\\x8b\\xe3\\x82\\x8910\\xe6\\x9c\\x886\\xe6\\x97\\xa5\\xef\\xbc\\x89</a></li>\\n\\t\\t\\t\\t\\t<li><a href=\"2008-2/\">\\xe5\\xb9\\xb3\\xe6\\x88\\x9020\\xe5\\xb9\\xb4\\xe7\\xac\\xac2\\xe5\\x9b\\x9e\\xe5\\xae\\x9a\\xe4\\xbe\\x8b\\xe4\\xbc\\x9a\\xef\\xbc\\x886\\xe6\\x9c\\x8810\\xe6\\x97\\xa5\\xe3\\x81\\x8b\\xe3\\x82\\x896\\xe6\\x9c\\x8825\\xe6\\x97\\xa5\\xef\\xbc\\x89</a></li>\\n\\t\\t\\t\\t\\t<li><a href=\"2008-1/\">\\xe5\\xb9\\xb3\\xe6\\x88\\x9020\\xe5\\xb9\\xb4\\xe7\\xac\\xac1\\xe5\\x9b\\x9e\\xe5\\xae\\x9a\\xe4\\xbe\\x8b\\xe4\\xbc\\x9a\\xef\\xbc\\x882\\xe6\\x9c\\x8820\\xe6\\x97\\xa5\\xe3\\x81\\x8b\\xe3\\x82\\x893\\xe6\\x9c\\x8828\\xe6\\x97\\xa5\\xef\\xbc\\x89</a></li>\\n\\t\\t\\t\\t</ul>\\n\\t\\t\\t\\t<ul>\\n\\t\\t\\t\\t\\t<li><a href=\"2007-4/\">\\xe5\\xb9\\xb3\\xe6\\x88\\x9019\\xe5\\xb9\\xb4\\xe7\\xac\\xac4\\xe5\\x9b\\x9e\\xe5\\xae\\x9a\\xe4\\xbe\\x8b\\xe4\\xbc\\x9a\\xef\\xbc\\x8812\\xe6\\x9c\\x884\\xe6\\x97\\xa5\\xe3\\x81\\x8b\\xe3\\x82\\x8912\\xe6\\x9c\\x8819\\xe6\\x97\\xa5\\xef\\xbc\\x89</a></li>\\n\\t\\t\\t\\t\\t<li><a href=\"2007-3/\">\\xe5\\xb9\\xb3\\xe6\\x88\\x9019\\xe5\\xb9\\xb4\\xe7\\xac\\xac3\\xe5\\x9b\\x9e\\xe5\\xae\\x9a\\xe4\\xbe\\x8b\\xe4\\xbc\\x9a\\xef\\xbc\\x889\\xe6\\x9c\\x8819\\xe6\\x97\\xa5\\xe3\\x81\\x8b\\xe3\\x82\\x8910\\xe6\\x9c\\x885\\xe6\\x97\\xa5\\xef\\xbc\\x89</a></li>\\n\\t\\t\\t\\t\\t<li><a href=\"2007-2/\">\\xe5\\xb9\\xb3\\xe6\\x88\\x9019\\xe5\\xb9\\xb4\\xe7\\xac\\xac2\\xe5\\x9b\\x9e\\xe5\\xae\\x9a\\xe4\\xbe\\x8b\\xe4\\xbc\\x9a\\xef\\xbc\\x886\\xe6\\x9c\\x8812\\xe6\\x97\\xa5\\xe3\\x81\\x8b\\xe3\\x82\\x896\\xe6\\x9c\\x8827\\xe6\\x97\\xa5\\xef\\xbc\\x89</a></li>\\n\\t\\t\\t\\t\\t<li><a href=\"../extraordinary/2007-1.html\">\\xe5\\xb9\\xb3\\xe6\\x88\\x9019\\xe5\\xb9\\xb4\\xe7\\xac\\xac1\\xe5\\x9b\\x9e\\xe8\\x87\\xa8\\xe6\\x99\\x82\\xe4\\xbc\\x9a\\xef\\xbc\\x885\\xe6\\x9c\\x8810\\xe6\\x97\\xa5\\xef\\xbc\\x89</a></li>\\n\\t\\t\\t\\t\\t<li><a href=\"2007-1/\">\\xe5\\xb9\\xb3\\xe6\\x88\\x9019\\xe5\\xb9\\xb4\\xe7\\xac\\xac1\\xe5\\x9b\\x9e\\xe5\\xae\\x9a\\xe4\\xbe\\x8b\\xe4\\xbc\\x9a\\xef\\xbc\\x882\\xe6\\x9c\\x887\\xe6\\x97\\xa5\\xe3\\x81\\x8b\\xe3\\x82\\x893\\xe6\\x9c\\x889\\xe6\\x97\\xa5\\xef\\xbc\\x89</a></li>\\n\\t\\t\\t\\t</ul>\\n\\t\\t\\t\\t<ul>\\n\\t\\t\\t\\t\\t<li><a href=\"2006-4/\">\\xe5\\xb9\\xb3\\xe6\\x88\\x9018\\xe5\\xb9\\xb4\\xe7\\xac\\xac4\\xe5\\x9b\\x9e\\xe5\\xae\\x9a\\xe4\\xbe\\x8b\\xe4\\xbc\\x9a\\xef\\xbc\\x8812\\xe6\\x9c\\x881\\xe6\\x97\\xa5\\xe3\\x81\\x8b\\xe3\\x82\\x8912\\xe6\\x9c\\x8815\\xe6\\x97\\xa5\\xef\\xbc\\x89</a></li>\\n\\t\\t\\t\\t\\t<li><a href=\"2006-3/\">\\xe5\\xb9\\xb3\\xe6\\x88\\x9018\\xe5\\xb9\\xb4\\xe7\\xac\\xac3\\xe5\\x9b\\x9e\\xe5\\xae\\x9a\\xe4\\xbe\\x8b\\xe4\\xbc\\x9a\\xef\\xbc\\x889\\xe6\\x9c\\x8820\\xe6\\x97\\xa5\\xe3\\x81\\x8b\\xe3\\x82\\x8910\\xe6\\x9c\\x885\\xe6\\x97\\xa5\\xef\\xbc\\x89</a></li>\\n\\t\\t\\t\\t\\t<li><a href=\"2006-2/\">\\xe5\\xb9\\xb3\\xe6\\x88\\x9018\\xe5\\xb9\\xb4\\xe7\\xac\\xac2\\xe5\\x9b\\x9e\\xe5\\xae\\x9a\\xe4\\xbe\\x8b\\xe4\\xbc\\x9a\\xef\\xbc\\x886\\xe6\\x9c\\x886\\xe6\\x97\\xa5\\xe3\\x81\\x8b\\xe3\\x82\\x896\\xe6\\x9c\\x8821\\xe6\\x97\\xa5\\xef\\xbc\\x89</a></li>\\n\\t\\t\\t\\t\\t<li><a href=\"2006-1/\">\\xe5\\xb9\\xb3\\xe6\\x88\\x9018\\xe5\\xb9\\xb4\\xe7\\xac\\xac1\\xe5\\x9b\\x9e\\xe5\\xae\\x9a\\xe4\\xbe\\x8b\\xe4\\xbc\\x9a\\xef\\xbc\\x882\\xe6\\x9c\\x8822\\xe6\\x97\\xa5\\xe3\\x81\\x8b\\xe3\\x82\\x893\\xe6\\x9c\\x8830\\xe6\\x97\\xa5\\xef\\xbc\\x89</a></li>\\n\\t\\t\\t\\t</ul>\\n\\t\\t\\t\\t<ul>\\n\\t\\t\\t\\t\\t<li><a href=\"2005-4/\">\\xe5\\xb9\\xb3\\xe6\\x88\\x9017\\xe5\\xb9\\xb4\\xe7\\xac\\xac4\\xe5\\x9b\\x9e\\xe5\\xae\\x9a\\xe4\\xbe\\x8b\\xe4\\xbc\\x9a\\xef\\xbc\\x8812\\xe6\\x9c\\x881\\xe6\\x97\\xa5\\xe3\\x81\\x8b\\xe3\\x82\\x8912\\xe6\\x9c\\x8815\\xe6\\x97\\xa5\\xef\\xbc\\x89</a></li>\\n\\t\\t\\t\\t\\t<li><a href=\"2005-3/\">\\xe5\\xb9\\xb3\\xe6\\x88\\x9017\\xe5\\xb9\\xb4\\xe7\\xac\\xac3\\xe5\\x9b\\x9e\\xe5\\xae\\x9a\\xe4\\xbe\\x8b\\xe4\\xbc\\x9a\\xef\\xbc\\x889\\xe6\\x9c\\x8820\\xe6\\x97\\xa5\\xe3\\x81\\x8b\\xe3\\x82\\x8910\\xe6\\x9c\\x886\\xe6\\x97\\xa5\\xef\\xbc\\x89</a></li>\\n\\t\\t\\t\\t\\t<li><a href=\"../extraordinary/2005-1.html\">\\xe5\\xb9\\xb3\\xe6\\x88\\x9017\\xe5\\xb9\\xb4\\xe7\\xac\\xac1\\xe5\\x9b\\x9e\\xe8\\x87\\xa8\\xe6\\x99\\x82\\xe4\\xbc\\x9a\\xef\\xbc\\x888\\xe6\\x9c\\x889\\xe6\\x97\\xa5\\xef\\xbc\\x89</a></li>\\n\\t\\t\\t\\t\\t<li><a href=\"2005-2/\">\\xe5\\xb9\\xb3\\xe6\\x88\\x9017\\xe5\\xb9\\xb4\\xe7\\xac\\xac2\\xe5\\x9b\\x9e\\xe5\\xae\\x9a\\xe4\\xbe\\x8b\\xe4\\xbc\\x9a\\xef\\xbc\\x886\\xe6\\x9c\\x881\\xe6\\x97\\xa5\\xe3\\x81\\x8b\\xe3\\x82\\x896\\xe6\\x9c\\x887\\xe6\\x97\\xa5\\xef\\xbc\\x89</a></li>\\n\\t\\t\\t\\t\\t<li><a href=\"2005-1/\">\\xe5\\xb9\\xb3\\xe6\\x88\\x9017\\xe5\\xb9\\xb4\\xe7\\xac\\xac1\\xe5\\x9b\\x9e\\xe5\\xae\\x9a\\xe4\\xbe\\x8b\\xe4\\xbc\\x9a\\xef\\xbc\\x882\\xe6\\x9c\\x8823\\xe6\\x97\\xa5\\xe3\\x81\\x8b\\xe3\\x82\\x893\\xe6\\x9c\\x8830\\xe6\\x97\\xa5\\xef\\xbc\\x89</a></li>\\n\\t\\t\\t\\t</ul>\\n\\t\\t\\t\\t<ul>\\n\\t\\t\\t\\t\\t<li><a href=\"2004-4/\">\\xe5\\xb9\\xb3\\xe6\\x88\\x9016\\xe5\\xb9\\xb4\\xe7\\xac\\xac4\\xe5\\x9b\\x9e\\xe5\\xae\\x9a\\xe4\\xbe\\x8b\\xe4\\xbc\\x9a\\xef\\xbc\\x8812\\xe6\\x9c\\x881\\xe6\\x97\\xa5\\xe3\\x81\\x8b\\xe3\\x82\\x8912\\xe6\\x9c\\x8816\\xe6\\x97\\xa5\\xef\\xbc\\x89</a></li>\\n\\t\\t\\t\\t\\t<li><a href=\"2004-3/\">\\xe5\\xb9\\xb3\\xe6\\x88\\x9016\\xe5\\xb9\\xb4\\xe7\\xac\\xac3\\xe5\\x9b\\x9e\\xe5\\xae\\x9a\\xe4\\xbe\\x8b\\xe4\\xbc\\x9a\\xef\\xbc\\x889\\xe6\\x9c\\x8821\\xe6\\x97\\xa5\\xe3\\x81\\x8b\\xe3\\x82\\x8910\\xe6\\x9c\\x887\\xe6\\x97\\xa5\\xef\\xbc\\x89</a></li>\\n\\t\\t\\t\\t\\t<li><a href=\"2004-2/\">\\xe5\\xb9\\xb3\\xe6\\x88\\x9016\\xe5\\xb9\\xb4\\xe7\\xac\\xac2\\xe5\\x9b\\x9e\\xe5\\xae\\x9a\\xe4\\xbe\\x8b\\xe4\\xbc\\x9a\\xef\\xbc\\x886\\xe6\\x9c\\x881\\xe6\\x97\\xa5\\xe3\\x81\\x8b\\xe3\\x82\\x896\\xe6\\x9c\\x8816\\xe6\\x97\\xa5\\xef\\xbc\\x89</a></li>\\n\\t\\t\\t\\t\\t<li><a href=\"2004-1/\">\\xe5\\xb9\\xb3\\xe6\\x88\\x9016\\xe5\\xb9\\xb4\\xe7\\xac\\xac1\\xe5\\x9b\\x9e\\xe5\\xae\\x9a\\xe4\\xbe\\x8b\\xe4\\xbc\\x9a\\xef\\xbc\\x882\\xe6\\x9c\\x8825\\xe6\\x97\\xa5\\xe3\\x81\\x8b\\xe3\\x82\\x893\\xe6\\x9c\\x8830\\xe6\\x97\\xa5\\xef\\xbc\\x89</a></li>\\n\\t\\t\\t\\t</ul>\\n\\t\\t\\t\\t<ul>\\n\\t\\t\\t\\t\\t<li><a href=\"2003-4/\">\\xe5\\xb9\\xb3\\xe6\\x88\\x9015\\xe5\\xb9\\xb4\\xe7\\xac\\xac4\\xe5\\x9b\\x9e\\xe5\\xae\\x9a\\xe4\\xbe\\x8b\\xe4\\xbc\\x9a\\xef\\xbc\\x8812\\xe6\\x9c\\x882\\xe6\\x97\\xa5\\xe3\\x81\\x8b\\xe3\\x82\\x8912\\xe6\\x9c\\x8817\\xe6\\x97\\xa5\\xef\\xbc\\x89</a></li>\\n\\t\\t\\t\\t\\t<li><a href=\"2003-3/\">\\xe5\\xb9\\xb3\\xe6\\x88\\x9015\\xe5\\xb9\\xb4\\xe7\\xac\\xac3\\xe5\\x9b\\x9e\\xe5\\xae\\x9a\\xe4\\xbe\\x8b\\xe4\\xbc\\x9a\\xef\\xbc\\x889\\xe6\\x9c\\x8818\\xe6\\x97\\xa5\\xe3\\x81\\x8b\\xe3\\x82\\x8910\\xe6\\x9c\\x886\\xe6\\x97\\xa5\\xef\\xbc\\x89</a></li>\\n\\t\\t\\t\\t\\t<li><a href=\"2003-2/\">\\xe5\\xb9\\xb3\\xe6\\x88\\x9015\\xe5\\xb9\\xb4\\xe7\\xac\\xac2\\xe5\\x9b\\x9e\\xe5\\xae\\x9a\\xe4\\xbe\\x8b\\xe4\\xbc\\x9a\\xef\\xbc\\x886\\xe6\\x9c\\x8824\\xe6\\x97\\xa5\\xe3\\x81\\x8b\\xe3\\x82\\x897\\xe6\\x9c\\x889\\xe6\\x97\\xa5\\xef\\xbc\\x89</a></li>\\n\\t\\t\\t\\t\\t<li><a href=\"../extraordinary/2003-1.html\">\\xe5\\xb9\\xb3\\xe6\\x88\\x9015\\xe5\\xb9\\xb4\\xe7\\xac\\xac1\\xe5\\x9b\\x9e\\xe8\\x87\\xa8\\xe6\\x99\\x82\\xe4\\xbc\\x9a\\xef\\xbc\\x885\\xe6\\x9c\\x889\\xe6\\x97\\xa5\\xef\\xbc\\x89</a></li>\\n\\t\\t\\t\\t\\t<li><a href=\"2003-1/\">\\xe5\\xb9\\xb3\\xe6\\x88\\x9015\\xe5\\xb9\\xb4\\xe7\\xac\\xac1\\xe5\\x9b\\x9e\\xe5\\xae\\x9a\\xe4\\xbe\\x8b\\xe4\\xbc\\x9a\\xef\\xbc\\x882\\xe6\\x9c\\x885\\xe6\\x97\\xa5\\xe3\\x81\\x8b\\xe3\\x82\\x893\\xe6\\x9c\\x887\\xe6\\x97\\xa5\\xef\\xbc\\x89</a></li>\\n\\t\\t\\t\\t</ul>\\n\\t\\t\\t\\t<ul>\\n\\t\\t\\t\\t\\t<li><a href=\"2002-4/\">\\xe5\\xb9\\xb3\\xe6\\x88\\x9014\\xe5\\xb9\\xb4\\xe7\\xac\\xac4\\xe5\\x9b\\x9e\\xe5\\xae\\x9a\\xe4\\xbe\\x8b\\xe4\\xbc\\x9a\\xef\\xbc\\x8812\\xe6\\x9c\\x883\\xe6\\x97\\xa5\\xe3\\x81\\x8b\\xe3\\x82\\x8912\\xe6\\x9c\\x8818\\xe6\\x97\\xa5\\xef\\xbc\\x89</a></li>\\n\\t\\t\\t\\t\\t<li><a href=\"2002-3/\">\\xe5\\xb9\\xb3\\xe6\\x88\\x9014\\xe5\\xb9\\xb4\\xe7\\xac\\xac3\\xe5\\x9b\\x9e\\xe5\\xae\\x9a\\xe4\\xbe\\x8b\\xe4\\xbc\\x9a\\xef\\xbc\\x889\\xe6\\x9c\\x8818\\xe6\\x97\\xa5\\xe3\\x81\\x8b\\xe3\\x82\\x8910\\xe6\\x9c\\x8815\\xe6\\x97\\xa5\\xef\\xbc\\x89</a></li>\\n\\t\\t\\t\\t\\t<li><a href=\"2002-2/\">\\xe5\\xb9\\xb3\\xe6\\x88\\x9014\\xe5\\xb9\\xb4\\xe7\\xac\\xac2\\xe5\\x9b\\x9e\\xe5\\xae\\x9a\\xe4\\xbe\\x8b\\xe4\\xbc\\x9a\\xef\\xbc\\x886\\xe6\\x9c\\x8811\\xe6\\x97\\xa5\\xe3\\x81\\x8b\\xe3\\x82\\x896\\xe6\\x9c\\x8826\\xe6\\x97\\xa5\\xef\\xbc\\x89</a></li>\\n\\t\\t\\t\\t\\t<li><a href=\"2002-1/\">\\xe5\\xb9\\xb3\\xe6\\x88\\x9014\\xe5\\xb9\\xb4\\xe7\\xac\\xac1\\xe5\\x9b\\x9e\\xe5\\xae\\x9a\\xe4\\xbe\\x8b\\xe4\\xbc\\x9a\\xef\\xbc\\x882\\xe6\\x9c\\x8820\\xe6\\x97\\xa5\\xe3\\x81\\x8b\\xe3\\x82\\x893\\xe6\\x9c\\x8828\\xe6\\x97\\xa5\\xef\\xbc\\x89</a></li>\\n\\t\\t\\t\\t</ul>\\n\\t\\t\\t\\t<ul>\\n\\t\\t\\t\\t\\t<li><a href=\"2001-4/\">\\xe5\\xb9\\xb3\\xe6\\x88\\x9013\\xe5\\xb9\\xb4\\xe7\\xac\\xac4\\xe5\\x9b\\x9e\\xe5\\xae\\x9a\\xe4\\xbe\\x8b\\xe4\\xbc\\x9a\\xef\\xbc\\x8812\\xe6\\x9c\\x884\\xe6\\x97\\xa5\\xe3\\x81\\x8b\\xe3\\x82\\x8912\\xe6\\x9c\\x8819\\xe6\\x97\\xa5\\xef\\xbc\\x89</a></li>\\n\\t\\t\\t\\t\\t<li><a href=\"2001-3/\">\\xe5\\xb9\\xb3\\xe6\\x88\\x9013\\xe5\\xb9\\xb4\\xe7\\xac\\xac3\\xe5\\x9b\\x9e\\xe5\\xae\\x9a\\xe4\\xbe\\x8b\\xe4\\xbc\\x9a\\xef\\xbc\\x889\\xe6\\x9c\\x8819\\xe6\\x97\\xa5\\xe3\\x81\\x8b\\xe3\\x82\\x8910\\xe6\\x9c\\x885\\xe6\\x97\\xa5\\xef\\xbc\\x89</a></li>\\n\\t\\t\\t\\t\\t<li><a href=\"../extraordinary/2001-1.html\">\\xe5\\xb9\\xb3\\xe6\\x88\\x9013\\xe5\\xb9\\xb4\\xe7\\xac\\xac1\\xe5\\x9b\\x9e\\xe8\\x87\\xa8\\xe6\\x99\\x82\\xe4\\xbc\\x9a\\xef\\xbc\\x888\\xe6\\x9c\\x888\\xe6\\x97\\xa5\\xef\\xbc\\x89</a></li>\\n\\t\\t\\t\\t\\t<li><a href=\"2001-2/\">\\xe5\\xb9\\xb3\\xe6\\x88\\x9013\\xe5\\xb9\\xb4\\xe7\\xac\\xac2\\xe5\\x9b\\x9e\\xe5\\xae\\x9a\\xe4\\xbe\\x8b\\xe4\\xbc\\x9a\\xef\\xbc\\x886\\xe6\\x9c\\x884\\xe6\\x97\\xa5\\xe3\\x81\\x8b\\xe3\\x82\\x896\\xe6\\x9c\\x888\\xe6\\x97\\xa5\\xef\\xbc\\x89</a></li>\\n\\t\\t\\t\\t\\t<li><a href=\"2001-1/\">\\xe5\\xb9\\xb3\\xe6\\x88\\x9013\\xe5\\xb9\\xb4\\xe7\\xac\\xac1\\xe5\\x9b\\x9e\\xe5\\xae\\x9a\\xe4\\xbe\\x8b\\xe4\\xbc\\x9a\\xef\\xbc\\x882\\xe6\\x9c\\x8821\\xe6\\x97\\xa5\\xe3\\x81\\x8b\\xe3\\x82\\x893\\xe6\\x9c\\x8829\\xe6\\x97\\xa5\\xef\\xbc\\x89</a></li>\\n\\t\\t\\t\\t</ul>\\n\\t\\t\\t\\t<ul>\\n\\t\\t\\t\\t\\t<li><a href=\"2000-4/\">\\xe5\\xb9\\xb3\\xe6\\x88\\x9012\\xe5\\xb9\\xb4\\xe7\\xac\\xac4\\xe5\\x9b\\x9e\\xe5\\xae\\x9a\\xe4\\xbe\\x8b\\xe4\\xbc\\x9a\\xef\\xbc\\x8812\\xe6\\x9c\\x881\\xe6\\x97\\xa5\\xe3\\x81\\x8b\\xe3\\x82\\x8912\\xe6\\x9c\\x8815\\xe6\\x97\\xa5\\xef\\xbc\\x89</a></li>\\n\\t\\t\\t\\t\\t<li><a href=\"2000-3/\">\\xe5\\xb9\\xb3\\xe6\\x88\\x9012\\xe5\\xb9\\xb4\\xe7\\xac\\xac3\\xe5\\x9b\\x9e\\xe5\\xae\\x9a\\xe4\\xbe\\x8b\\xe4\\xbc\\x9a\\xef\\xbc\\x889\\xe6\\x9c\\x8819\\xe6\\x97\\xa5\\xe3\\x81\\x8b\\xe3\\x82\\x8910\\xe6\\x9c\\x884\\xe6\\x97\\xa5\\xef\\xbc\\x89</a></li>\\n\\t\\t\\t\\t\\t<li><a href=\"2000-2/\">\\xe5\\xb9\\xb3\\xe6\\x88\\x9012\\xe5\\xb9\\xb4\\xe7\\xac\\xac2\\xe5\\x9b\\x9e\\xe5\\xae\\x9a\\xe4\\xbe\\x8b\\xe4\\xbc\\x9a\\xef\\xbc\\x886\\xe6\\x9c\\x8828\\xe6\\x97\\xa5\\xe3\\x81\\x8b\\xe3\\x82\\x897\\xe6\\x9c\\x8812\\xe6\\x97\\xa5\\xef\\xbc\\x89</a></li>\\n\\t\\t\\t\\t\\t<li><a href=\"2000-1/\">\\xe5\\xb9\\xb3\\xe6\\x88\\x9012\\xe5\\xb9\\xb4\\xe7\\xac\\xac1\\xe5\\x9b\\x9e\\xe5\\xae\\x9a\\xe4\\xbe\\x8b\\xe4\\xbc\\x9a\\xef\\xbc\\x882\\xe6\\x9c\\x8823\\xe6\\x97\\xa5\\xe3\\x81\\x8b\\xe3\\x82\\x893\\xe6\\x9c\\x8830\\xe6\\x97\\xa5\\xef\\xbc\\x89</a></li>\\n\\t\\t\\t\\t</ul>\\n\\t\\t\\t\\t<ul>\\n\\t\\t\\t\\t\\t<li><a href=\"1999-4/\">\\xe5\\xb9\\xb3\\xe6\\x88\\x9011\\xe5\\xb9\\xb4\\xe7\\xac\\xac4\\xe5\\x9b\\x9e\\xe5\\xae\\x9a\\xe4\\xbe\\x8b\\xe4\\xbc\\x9a\\xef\\xbc\\x8812\\xe6\\x9c\\x881\\xe6\\x97\\xa5\\xe3\\x81\\x8b\\xe3\\x82\\x8912\\xe6\\x9c\\x8816\\xe6\\x97\\xa5\\xef\\xbc\\x89</a></li>\\n\\t\\t\\t\\t</ul>\\n\\t\\t\\t\\t<p class=\"notes\">\\xe5\\xb9\\xb3\\xe6\\x88\\x9011\\xe5\\xb9\\xb4\\xe4\\xbb\\xa5\\xe5\\x89\\x8d\\xe3\\x81\\xae\\xe4\\xbc\\x9a\\xe8\\xad\\xb0\\xe9\\x8c\\xb2(\\xe6\\x98\\xad\\xe5\\x92\\x8c32\\xe5\\xb9\\xb41\\xe6\\x9c\\x88\\xe4\\xbb\\xa5\\xe9\\x99\\x8d)\\xe3\\x83\\xbb\\xe9\\x80\\x9f\\xe8\\xa8\\x98\\xe9\\x8c\\xb2(\\xe5\\xb9\\xb3\\xe6\\x88\\x90\\xe5\\x85\\x83\\xe5\\xb9\\xb48\\xe6\\x9c\\x88\\xe4\\xbb\\xa5\\xe9\\x99\\x8d)\\xe3\\x81\\xaf\\xe3\\x80\\x8c<a href=\"http://www.metro.tokyo.dbsr.jp\">\\xe4\\xbc\\x9a\\xe8\\xad\\xb0\\xe9\\x8c\\xb2\\xe6\\xa4\\x9c\\xe7\\xb4\\xa2</a>\\xe3\\x80\\x8d\\xe3\\x81\\xae\\xe3\\x83\\x9a\\xe3\\x83\\xbc\\xe3\\x82\\xb8\\xe3\\x81\\xa7\\xe9\\x96\\xb2\\xe8\\xa6\\xa7\\xe3\\x81\\xa7\\xe3\\x81\\x8d\\xe3\\x81\\xbe\\xe3\\x81\\x99\\xe3\\x80\\x82\\xe3\\x81\\xa9\\xe3\\x81\\x86\\xe3\\x81\\x9e\\xe3\\x81\\x94\\xe5\\x88\\xa9\\xe7\\x94\\xa8\\xe3\\x81\\x8f\\xe3\\x81\\xa0\\xe3\\x81\\x95\\xe3\\x81\\x84\\xe3\\x80\\x82</p>\\n\\t\\t\\t\\t<p class=\"text-right\">\\xe5\\x95\\x8f\\xe3\\x81\\x84\\xe5\\x90\\x88\\xe3\\x82\\x8f\\xe3\\x81\\x9b\\xe5\\x85\\x88<br>\\xe8\\xad\\xb0\\xe4\\xbc\\x9a\\xe5\\xb1\\x80\\xe8\\xad\\xb0\\xe4\\xba\\x8b\\xe8\\xaa\\xb2<br>\\xe9\\x9b\\xbb\\xe8\\xa9\\xb103-5320-7146<br>Fax03-5388-1774</p>\\n\\n\\t\\t</div><!--//page-->\\n\\t</div><!--//inner -->\\n</div><!--//contents-->\\n\\n<p id=\"js-pagetop\"><a href=\"#\"><i class=\"fa icon-arrow-up fa-fw\" title=\"\\xe3\\x83\\x9a\\xe3\\x83\\xbc\\xe3\\x82\\xb8\\xe5\\x85\\x88\\xe9\\xa0\\xad\\xe3\\x81\\xab\\xe6\\x88\\xbb\\xe3\\x82\\x8b\" aria-hidden=\"true\"></i><span class=\"sr-only\">\\xe3\\x83\\x9a\\xe3\\x83\\xbc\\xe3\\x82\\xb8\\xe5\\x85\\x88\\xe9\\xa0\\xad\\xe3\\x81\\xab\\xe6\\x88\\xbb\\xe3\\x82\\x8b</span></a></p>\\n\\n<div class=\"footer\"><!-- footer -->\\n\\t<footer>\\n\\t\\t<p>\\n\\t\\t\\t<a href=\"../../about/recommend.html\">\\xe3\\x82\\xb5\\xe3\\x82\\xa4\\xe3\\x83\\x88\\xe3\\x81\\xae\\xe3\\x81\\x94\\xe5\\x88\\xa9\\xe7\\x94\\xa8\\xe3\\x81\\xab\\xe3\\x81\\xa4\\xe3\\x81\\x84\\xe3\\x81\\xa6</a><a href=\"../../about/sitepolicy.html\">\\xe3\\x82\\xb5\\xe3\\x82\\xa4\\xe3\\x83\\x88\\xe3\\x83\\x9d\\xe3\\x83\\xaa\\xe3\\x82\\xb7\\xe3\\x83\\xbc</a><a href=\"../../about/accessibility.html\">\\xe3\\x82\\xa2\\xe3\\x82\\xaf\\xe3\\x82\\xbb\\xe3\\x82\\xb7\\xe3\\x83\\x93\\xe3\\x83\\xaa\\xe3\\x83\\x86\\xe3\\x82\\xa3\\xe6\\x96\\xb9\\xe9\\x87\\x9d</a><a href=\"../../about/privacy.html\">\\xe5\\x80\\x8b\\xe4\\xba\\xba\\xe6\\x83\\x85\\xe5\\xa0\\xb1\\xe4\\xbf\\x9d\\xe8\\xad\\xb7\\xe6\\x96\\xb9\\xe9\\x87\\x9d</a><a href=\"../../about/contact.html\">\\xe3\\x81\\x8a\\xe5\\x95\\x8f\\xe3\\x81\\x84\\xe5\\x90\\x88\\xe3\\x82\\x8f\\xe3\\x81\\x9b</a><a href=\"../../link/\">\\xe3\\x83\\xaa\\xe3\\x83\\xb3\\xe3\\x82\\xaf\\xe9\\x9b\\x86</a>\\n\\t\\t</p>\\n\\t\\t<p>\\n\\t\\t\\t\\xe6\\x9d\\xb1\\xe4\\xba\\xac\\xe9\\x83\\xbd\\xe8\\xad\\xb0\\xe4\\xbc\\x9a\\xe8\\xad\\xb0\\xe4\\xbc\\x9a\\xe5\\xb1\\x80\\xe7\\xae\\xa1\\xe7\\x90\\x86\\xe9\\x83\\xa8\\xe5\\xba\\x83\\xe5\\xa0\\xb1\\xe8\\xaa\\xb2<br>\\xe3\\x80\\x92163-8001 \\xe6\\x9d\\xb1\\xe4\\xba\\xac\\xe9\\x83\\xbd\\xe6\\x96\\xb0\\xe5\\xae\\xbf\\xe5\\x8c\\xba\\xe8\\xa5\\xbf\\xe6\\x96\\xb0\\xe5\\xae\\xbf\\xe4\\xba\\x8c\\xe4\\xb8\\x81\\xe7\\x9b\\xae8\\xe7\\x95\\xaa1\\xe5\\x8f\\xb7 \\xe9\\x9b\\xbb\\xe8\\xa9\\xb103-5320-7126 Fax03-5388-1779<br>\\n\\t\\t\\t<small>Copyright &copy; Tokyo Metropolitan Assembly All Rights Reserved.</small>\\n\\t\\t</p>\\n\\t</footer>\\n</div><!--//footer-->\\n<script src=\"../../js/import.js\"></script>\\n<script src=\"../../js/pagetop.js\"></script>\\n</body>\\n</html>'"
      ]
     },
     "execution_count": 4,
     "metadata": {},
     "output_type": "execute_result"
    }
   ],
   "source": [
    "r.data"
   ]
  },
  {
   "cell_type": "code",
   "execution_count": 5,
   "metadata": {
    "collapsed": false
   },
   "outputs": [],
   "source": [
    "soup = BeautifulSoup(r.data, \"html.parser\")"
   ]
  },
  {
   "cell_type": "code",
   "execution_count": 6,
   "metadata": {
    "collapsed": false
   },
   "outputs": [
    {
     "data": {
      "text/plain": [
       "<!DOCTYPE html>\n",
       "\n",
       "<html lang=\"ja\">\n",
       "<head>\n",
       "<meta charset=\"utf-8\">\n",
       "<meta content=\"width=device-width, initial-scale=1.0\" name=\"viewport\">\n",
       "<meta content=\"telephone=no\" name=\"format-detection\">\n",
       "<meta content=\"都議会定例会の会議録を掲載しています。\" name=\"description\">\n",
       "<title>本会議の会議録 ｜ 東京都議会</title>\n",
       "<link href=\"../../styles/common.css\" rel=\"stylesheet\">\n",
       "<!--[if lt IE 8]><!--><link href=\"../../styles/ie7.css\" rel=\"stylesheet\"><!--<![endif]-->\n",
       "<script src=\"https://ajax.googleapis.com/ajax/libs/jquery/1.12.4/jquery.min.js\"></script>\n",
       "</link></link></meta></meta></meta></meta></head>\n",
       "<body>\n",
       "<div id=\"js-skip\">\n",
       "<a href=\"#contents\">本文へ移動</a>\n",
       "</div>\n",
       "<div class=\"header\"><!-- header -->\n",
       "<div class=\"inner\"><!-- inner -->\n",
       "<div class=\"hgroup\">\n",
       "<h1><a href=\"../../\"><img alt=\"ロゴ 東京都議会\" src=\"../../images/logo.png\"/></a></h1>\n",
       "<h2>Tokyo Metropolitan Assembly</h2>\n",
       "</div>\n",
       "<div id=\"js-toggle\">\n",
       "<a href=\"#\"><i class=\"fa icon-navicon fa-btn pull-right fa-border\"></i><br><small>メニュー</small></br></a>\n",
       "</div>\n",
       "<div class=\"subnav\"><!-- subnav -->\n",
       "<ul>\n",
       "<li><a href=\"../../sitemap.html\" title=\"サイトマップへ\">サイトマップ</a></li>\n",
       "<li><a href=\"../../mobile.html\" title=\"モバイルへ\">モバイル</a></li>\n",
       "<li><a href=\"../../english/\" title=\"Englishへ\">English</a></li>\n",
       "</ul>\n",
       "<div class=\"fontsize\">\n",
       "\t\t\t\t文字サイズ<a href=\"javascript:FontSize('large')\">拡大</a>\n",
       "<a class=\"default\" href=\"javascript:FontSize('default')\">標準</a>\n",
       "</div>\n",
       "<form action=\"https://search.metro.tokyo.lg.jp/\" method=\"GET\" name=\"search_form\">\n",
       "<dl class=\"search\">\n",
       "<dt><input class=\"searchBox\" name=\"kw\" placeholder=\"キーワードを入力\" type=\"text\" value=\"\"/></dt>\n",
       "<dd><input class=\"search-btn\" type=\"submit\" value=\"\"/></dd>\n",
       "<dd><input name=\"temp\" type=\"hidden\" value=\"JP\"/></dd>\n",
       "<dd><input name=\"ie\" type=\"hidden\" value=\"u\"/></dd>\n",
       "<dd><input name=\"sitesearch\" type=\"hidden\" value=\"www.gikai.metro.tokyo.jp\"/></dd>\n",
       "</dl>\n",
       "</form>\n",
       "</div><!--//subnav -->\n",
       "</div><!--//inner -->\n",
       "</div><!--//header -->\n",
       "<div class=\"nav\"><!-- nav -->\n",
       "<nav>\n",
       "<ul>\n",
       "<li><a href=\"../../assembly.html\">都議会の紹介</a></li><li><a href=\"../../member.html\">議員の紹介</a></li><li><a href=\"../../record.html\">会議の結果と記録</a></li><li><a href=\"../../visit.html\">傍聴・見学</a></li><li><a href=\"../../work.html\">調査・友好交流など</a></li>\n",
       "</ul>\n",
       "</nav>\n",
       "</div><!--//nav -->\n",
       "<div class=\"breadcrumb\"><!-- パンくずリスト -->\n",
       "<nav>\n",
       "<ol>\n",
       "<li itemscope=\"\" itemtype=\"http://data-vocabulary.org/Breadcrumb\"><a href=\"../../\" itemprop=\"url\"><span itemprop=\"title\">トップ</span></a></li>\n",
       "<li itemscope=\"\" itemtype=\"http://data-vocabulary.org/Breadcrumb\"><a href=\"../../record.html\" itemprop=\"url\"><span itemprop=\"title\">会議の結果と記録</span></a></li>\n",
       "<li itemscope=\"\" itemtype=\"http://data-vocabulary.org/Breadcrumb\"><a href=\"./\" itemprop=\"url\"><span itemprop=\"title\">本会議の会議録</span></a></li>\n",
       "</ol>\n",
       "</nav>\n",
       "</div><!--//パンくずリスト -->\n",
       "<div class=\"contents\" id=\"contents\"><!-- contents -->\n",
       "<div class=\"inner\">\n",
       "<div class=\"page list\"><!-- page -->\n",
       "<h3>本会議の会議録</h3>\n",
       "<p class=\"notes\">東京都議会が作成している会議記録（冊子）の一部（議案などを除きます。）をHTML化したもので、原本とは形式が異なります。また、人名や地名などの文字も第2水準までの漢字で構成されるため、会議記録と異なる場合があります。</p>\n",
       "<ul>\n",
       "<li><a href=\"2018-3/\">平成30年第3回定例会（9月19日から10月5日）〔本会議第二日、第三日速報版〕</a></li>\n",
       "<li><a href=\"2018-2/\">平成30年第2回定例会（6月12日から6月27日）</a></li>\n",
       "<li><a href=\"2018-1/\">平成30年第1回定例会（2月21日から3月29日）</a></li>\n",
       "</ul>\n",
       "<ul>\n",
       "<li><a href=\"2017-4/\">平成29年第4回定例会（12月1日から12月15日）</a></li>\n",
       "<li><a href=\"2017-3/\">平成29年第3回定例会（9月20日から10月5日）</a></li>\n",
       "<li><a href=\"../extraordinary/2017-2.html\">平成29年第2回臨時会（8月28日から9月5日）</a></li>\n",
       "<li><a href=\"../extraordinary/2017-1.html\">平成29年第1回臨時会（8月8日）</a></li>\n",
       "<li><a href=\"2017-2/\">平成29年第2回定例会（6月1日から6月7日）</a></li>\n",
       "<li><a href=\"2017-1/\">平成29年第1回定例会（2月22日から3月30日）</a></li>\n",
       "</ul>\n",
       "<ul>\n",
       "<li><a href=\"2016-4/\">平成28年第4回定例会（12月1日から12月15日）</a></li>\n",
       "<li><a href=\"2016-3/\">平成28年第3回定例会（9月28日から10月13日）</a></li>\n",
       "<li><a href=\"2016-2/\">平成28年第2回定例会（6月1日から6月15日）</a></li>\n",
       "<li><a href=\"2016-1/\">平成28年第1回定例会（2月17日から3月25日）</a></li>\n",
       "</ul>\n",
       "<ul>\n",
       "<li><a href=\"2015-4/\">平成27年第4回定例会（12月1日から12月16日）</a></li>\n",
       "<li><a href=\"2015-3/\">平成27年第3回定例会（9月18日から10月8日）</a></li>\n",
       "<li><a href=\"2015-2/\">平成27年第2回定例会（6月9日から6月24日）</a></li>\n",
       "<li><a href=\"2015-1/\">平成27年第1回定例会（2月18日から3月27日）</a></li>\n",
       "</ul>\n",
       "<ul>\n",
       "<li><a href=\"2014-4/\">平成26年第4回定例会（11月28日から12月25日）</a></li>\n",
       "<li><a href=\"2014-3/\">平成26年第3回定例会（9月17日から10月3日）</a></li>\n",
       "<li><a href=\"2014-2/\">平成26年第2回定例会（6月10日から6月25日）</a></li>\n",
       "<li><a href=\"2014-1/\">平成26年第1回定例会（2月26日から3月28日）</a></li>\n",
       "</ul>\n",
       "<ul>\n",
       "<li><a href=\"../extraordinary/2013-2.html\">平成25年第2回臨時会（12月24日）</a></li>\n",
       "<li><a href=\"2013-4/\">平成25年第4回定例会（11月29日から12月13日）</a></li>\n",
       "<li><a href=\"2013-3/\">平成25年第3回定例会（9月18日から10月11日）</a></li>\n",
       "<li><a href=\"../extraordinary/2013-1.html\">平成25年第1回臨時会（8月8日）</a></li>\n",
       "<li><a href=\"2013-2/\">平成25年第2回定例会（6月3日から6月7日）</a></li>\n",
       "<li><a href=\"2013-1/\">平成25年第1回定例会（2月20日から3月28日）</a></li>\n",
       "</ul>\n",
       "<ul>\n",
       "<li><a href=\"2012-4/\">平成24年第4回定例会（11月30日から12月6日）</a></li>\n",
       "<li><a href=\"../extraordinary/2012-1.html\">平成24年第1回臨時会（10月31日）</a></li>\n",
       "<li><a href=\"2012-3/\">平成24年第3回定例会（9月19日から10月4日）</a></li>\n",
       "<li><a href=\"2012-2/\">平成24年第2回定例会（6月5日から6月20日）</a></li>\n",
       "<li><a href=\"2012-1/\">平成24年第1回定例会（2月22日から3月29日）</a></li>\n",
       "</ul>\n",
       "<ul>\n",
       "<li><a href=\"2011-4/\">平成23年第4回定例会（11月30日から12月15日）</a></li>\n",
       "<li><a href=\"2011-3/\">平成23年第3回定例会（9月21日から10月18日）</a></li>\n",
       "<li><a href=\"2011-2/\">平成23年第2回定例会（6月17日から7月1日）</a></li>\n",
       "<li><a href=\"2011-1/\">平成23年第1回定例会（2月8日から3月11日）</a></li>\n",
       "</ul>\n",
       "<ul>\n",
       "<li><a href=\"2010-4/\">平成22年第4回定例会（11月30日から12月15日）</a></li>\n",
       "<li><a href=\"2010-3/\">平成22年第3回定例会（9月21日から10月7日）</a></li>\n",
       "<li><a href=\"2010-2/\">平成22年第2回定例会（6月1日から6月16日）</a></li>\n",
       "<li><a href=\"2010-1/\">平成22年第1回定例会（2月24日から3月30日）</a></li>\n",
       "</ul>\n",
       "<ul>\n",
       "<li><a href=\"2009-4/\">平成21年第4回定例会（12月1日から12月16日）</a></li>\n",
       "<li><a href=\"2009-3/\">平成21年第3回定例会（9月7日から9月25日）</a></li>\n",
       "<li><a href=\"../extraordinary/2009-3.html\">平成21年第3回臨時会（8月31日）</a></li>\n",
       "<li><a href=\"../extraordinary/2009-2.html\">平成21年第2回臨時会（8月10日）</a></li>\n",
       "<li><a href=\"2009-2/\">平成21年第2回定例会（6月1日から6月5日）</a></li>\n",
       "<li><a href=\"../extraordinary/2009-1.html\">平成21年第1回臨時会（5月29日）</a></li>\n",
       "<li><a href=\"2009-1/\">平成21年第1回定例会（2月18日から3月27日）</a></li>\n",
       "</ul>\n",
       "<ul>\n",
       "<li><a href=\"2008-4/\">平成20年第4回定例会（12月2日から12月17日）</a></li>\n",
       "<li><a href=\"2008-3/\">平成20年第3回定例会（9月18日から10月6日）</a></li>\n",
       "<li><a href=\"2008-2/\">平成20年第2回定例会（6月10日から6月25日）</a></li>\n",
       "<li><a href=\"2008-1/\">平成20年第1回定例会（2月20日から3月28日）</a></li>\n",
       "</ul>\n",
       "<ul>\n",
       "<li><a href=\"2007-4/\">平成19年第4回定例会（12月4日から12月19日）</a></li>\n",
       "<li><a href=\"2007-3/\">平成19年第3回定例会（9月19日から10月5日）</a></li>\n",
       "<li><a href=\"2007-2/\">平成19年第2回定例会（6月12日から6月27日）</a></li>\n",
       "<li><a href=\"../extraordinary/2007-1.html\">平成19年第1回臨時会（5月10日）</a></li>\n",
       "<li><a href=\"2007-1/\">平成19年第1回定例会（2月7日から3月9日）</a></li>\n",
       "</ul>\n",
       "<ul>\n",
       "<li><a href=\"2006-4/\">平成18年第4回定例会（12月1日から12月15日）</a></li>\n",
       "<li><a href=\"2006-3/\">平成18年第3回定例会（9月20日から10月5日）</a></li>\n",
       "<li><a href=\"2006-2/\">平成18年第2回定例会（6月6日から6月21日）</a></li>\n",
       "<li><a href=\"2006-1/\">平成18年第1回定例会（2月22日から3月30日）</a></li>\n",
       "</ul>\n",
       "<ul>\n",
       "<li><a href=\"2005-4/\">平成17年第4回定例会（12月1日から12月15日）</a></li>\n",
       "<li><a href=\"2005-3/\">平成17年第3回定例会（9月20日から10月6日）</a></li>\n",
       "<li><a href=\"../extraordinary/2005-1.html\">平成17年第1回臨時会（8月9日）</a></li>\n",
       "<li><a href=\"2005-2/\">平成17年第2回定例会（6月1日から6月7日）</a></li>\n",
       "<li><a href=\"2005-1/\">平成17年第1回定例会（2月23日から3月30日）</a></li>\n",
       "</ul>\n",
       "<ul>\n",
       "<li><a href=\"2004-4/\">平成16年第4回定例会（12月1日から12月16日）</a></li>\n",
       "<li><a href=\"2004-3/\">平成16年第3回定例会（9月21日から10月7日）</a></li>\n",
       "<li><a href=\"2004-2/\">平成16年第2回定例会（6月1日から6月16日）</a></li>\n",
       "<li><a href=\"2004-1/\">平成16年第1回定例会（2月25日から3月30日）</a></li>\n",
       "</ul>\n",
       "<ul>\n",
       "<li><a href=\"2003-4/\">平成15年第4回定例会（12月2日から12月17日）</a></li>\n",
       "<li><a href=\"2003-3/\">平成15年第3回定例会（9月18日から10月6日）</a></li>\n",
       "<li><a href=\"2003-2/\">平成15年第2回定例会（6月24日から7月9日）</a></li>\n",
       "<li><a href=\"../extraordinary/2003-1.html\">平成15年第1回臨時会（5月9日）</a></li>\n",
       "<li><a href=\"2003-1/\">平成15年第1回定例会（2月5日から3月7日）</a></li>\n",
       "</ul>\n",
       "<ul>\n",
       "<li><a href=\"2002-4/\">平成14年第4回定例会（12月3日から12月18日）</a></li>\n",
       "<li><a href=\"2002-3/\">平成14年第3回定例会（9月18日から10月15日）</a></li>\n",
       "<li><a href=\"2002-2/\">平成14年第2回定例会（6月11日から6月26日）</a></li>\n",
       "<li><a href=\"2002-1/\">平成14年第1回定例会（2月20日から3月28日）</a></li>\n",
       "</ul>\n",
       "<ul>\n",
       "<li><a href=\"2001-4/\">平成13年第4回定例会（12月4日から12月19日）</a></li>\n",
       "<li><a href=\"2001-3/\">平成13年第3回定例会（9月19日から10月5日）</a></li>\n",
       "<li><a href=\"../extraordinary/2001-1.html\">平成13年第1回臨時会（8月8日）</a></li>\n",
       "<li><a href=\"2001-2/\">平成13年第2回定例会（6月4日から6月8日）</a></li>\n",
       "<li><a href=\"2001-1/\">平成13年第1回定例会（2月21日から3月29日）</a></li>\n",
       "</ul>\n",
       "<ul>\n",
       "<li><a href=\"2000-4/\">平成12年第4回定例会（12月1日から12月15日）</a></li>\n",
       "<li><a href=\"2000-3/\">平成12年第3回定例会（9月19日から10月4日）</a></li>\n",
       "<li><a href=\"2000-2/\">平成12年第2回定例会（6月28日から7月12日）</a></li>\n",
       "<li><a href=\"2000-1/\">平成12年第1回定例会（2月23日から3月30日）</a></li>\n",
       "</ul>\n",
       "<ul>\n",
       "<li><a href=\"1999-4/\">平成11年第4回定例会（12月1日から12月16日）</a></li>\n",
       "</ul>\n",
       "<p class=\"notes\">平成11年以前の会議録(昭和32年1月以降)・速記録(平成元年8月以降)は「<a href=\"http://www.metro.tokyo.dbsr.jp\">会議録検索</a>」のページで閲覧できます。どうぞご利用ください。</p>\n",
       "<p class=\"text-right\">問い合わせ先<br>議会局議事課<br>電話03-5320-7146<br>Fax03-5388-1774</br></br></br></p>\n",
       "</div><!--//page-->\n",
       "</div><!--//inner -->\n",
       "</div><!--//contents-->\n",
       "<p id=\"js-pagetop\"><a href=\"#\"><i aria-hidden=\"true\" class=\"fa icon-arrow-up fa-fw\" title=\"ページ先頭に戻る\"></i><span class=\"sr-only\">ページ先頭に戻る</span></a></p>\n",
       "<div class=\"footer\"><!-- footer -->\n",
       "<footer>\n",
       "<p>\n",
       "<a href=\"../../about/recommend.html\">サイトのご利用について</a><a href=\"../../about/sitepolicy.html\">サイトポリシー</a><a href=\"../../about/accessibility.html\">アクセシビリティ方針</a><a href=\"../../about/privacy.html\">個人情報保護方針</a><a href=\"../../about/contact.html\">お問い合わせ</a><a href=\"../../link/\">リンク集</a>\n",
       "</p>\n",
       "<p>\n",
       "\t\t\t東京都議会議会局管理部広報課<br>〒163-8001 東京都新宿区西新宿二丁目8番1号 電話03-5320-7126 Fax03-5388-1779<br>\n",
       "<small>Copyright © Tokyo Metropolitan Assembly All Rights Reserved.</small>\n",
       "</br></br></p>\n",
       "</footer>\n",
       "</div><!--//footer-->\n",
       "<script src=\"../../js/import.js\"></script>\n",
       "<script src=\"../../js/pagetop.js\"></script>\n",
       "</body>\n",
       "</html>"
      ]
     },
     "execution_count": 6,
     "metadata": {},
     "output_type": "execute_result"
    }
   ],
   "source": [
    "soup"
   ]
  },
  {
   "cell_type": "code",
   "execution_count": 7,
   "metadata": {
    "collapsed": false
   },
   "outputs": [],
   "source": [
    "dir_names = []\n",
    "for data in soup.find_all(\"a\"):\n",
    "    dir_name = data.get(\"href\")\n",
    "    if dir_name[0] != \"2\" and dir_name[0] != \"1\":\n",
    "        continue\n",
    "    dir_names.append(base_url+\"/\"+dir_name)"
   ]
  },
  {
   "cell_type": "code",
   "execution_count": 8,
   "metadata": {
    "collapsed": false
   },
   "outputs": [
    {
     "data": {
      "text/plain": [
       "['https://www.gikai.metro.tokyo.jp/record/proceedings/2018-3/',\n",
       " 'https://www.gikai.metro.tokyo.jp/record/proceedings/2018-2/',\n",
       " 'https://www.gikai.metro.tokyo.jp/record/proceedings/2018-1/',\n",
       " 'https://www.gikai.metro.tokyo.jp/record/proceedings/2017-4/',\n",
       " 'https://www.gikai.metro.tokyo.jp/record/proceedings/2017-3/',\n",
       " 'https://www.gikai.metro.tokyo.jp/record/proceedings/2017-2/',\n",
       " 'https://www.gikai.metro.tokyo.jp/record/proceedings/2017-1/',\n",
       " 'https://www.gikai.metro.tokyo.jp/record/proceedings/2016-4/',\n",
       " 'https://www.gikai.metro.tokyo.jp/record/proceedings/2016-3/',\n",
       " 'https://www.gikai.metro.tokyo.jp/record/proceedings/2016-2/',\n",
       " 'https://www.gikai.metro.tokyo.jp/record/proceedings/2016-1/',\n",
       " 'https://www.gikai.metro.tokyo.jp/record/proceedings/2015-4/',\n",
       " 'https://www.gikai.metro.tokyo.jp/record/proceedings/2015-3/',\n",
       " 'https://www.gikai.metro.tokyo.jp/record/proceedings/2015-2/',\n",
       " 'https://www.gikai.metro.tokyo.jp/record/proceedings/2015-1/',\n",
       " 'https://www.gikai.metro.tokyo.jp/record/proceedings/2014-4/',\n",
       " 'https://www.gikai.metro.tokyo.jp/record/proceedings/2014-3/',\n",
       " 'https://www.gikai.metro.tokyo.jp/record/proceedings/2014-2/',\n",
       " 'https://www.gikai.metro.tokyo.jp/record/proceedings/2014-1/',\n",
       " 'https://www.gikai.metro.tokyo.jp/record/proceedings/2013-4/',\n",
       " 'https://www.gikai.metro.tokyo.jp/record/proceedings/2013-3/',\n",
       " 'https://www.gikai.metro.tokyo.jp/record/proceedings/2013-2/',\n",
       " 'https://www.gikai.metro.tokyo.jp/record/proceedings/2013-1/',\n",
       " 'https://www.gikai.metro.tokyo.jp/record/proceedings/2012-4/',\n",
       " 'https://www.gikai.metro.tokyo.jp/record/proceedings/2012-3/',\n",
       " 'https://www.gikai.metro.tokyo.jp/record/proceedings/2012-2/',\n",
       " 'https://www.gikai.metro.tokyo.jp/record/proceedings/2012-1/',\n",
       " 'https://www.gikai.metro.tokyo.jp/record/proceedings/2011-4/',\n",
       " 'https://www.gikai.metro.tokyo.jp/record/proceedings/2011-3/',\n",
       " 'https://www.gikai.metro.tokyo.jp/record/proceedings/2011-2/',\n",
       " 'https://www.gikai.metro.tokyo.jp/record/proceedings/2011-1/',\n",
       " 'https://www.gikai.metro.tokyo.jp/record/proceedings/2010-4/',\n",
       " 'https://www.gikai.metro.tokyo.jp/record/proceedings/2010-3/',\n",
       " 'https://www.gikai.metro.tokyo.jp/record/proceedings/2010-2/',\n",
       " 'https://www.gikai.metro.tokyo.jp/record/proceedings/2010-1/',\n",
       " 'https://www.gikai.metro.tokyo.jp/record/proceedings/2009-4/',\n",
       " 'https://www.gikai.metro.tokyo.jp/record/proceedings/2009-3/',\n",
       " 'https://www.gikai.metro.tokyo.jp/record/proceedings/2009-2/',\n",
       " 'https://www.gikai.metro.tokyo.jp/record/proceedings/2009-1/',\n",
       " 'https://www.gikai.metro.tokyo.jp/record/proceedings/2008-4/',\n",
       " 'https://www.gikai.metro.tokyo.jp/record/proceedings/2008-3/',\n",
       " 'https://www.gikai.metro.tokyo.jp/record/proceedings/2008-2/',\n",
       " 'https://www.gikai.metro.tokyo.jp/record/proceedings/2008-1/',\n",
       " 'https://www.gikai.metro.tokyo.jp/record/proceedings/2007-4/',\n",
       " 'https://www.gikai.metro.tokyo.jp/record/proceedings/2007-3/',\n",
       " 'https://www.gikai.metro.tokyo.jp/record/proceedings/2007-2/',\n",
       " 'https://www.gikai.metro.tokyo.jp/record/proceedings/2007-1/',\n",
       " 'https://www.gikai.metro.tokyo.jp/record/proceedings/2006-4/',\n",
       " 'https://www.gikai.metro.tokyo.jp/record/proceedings/2006-3/',\n",
       " 'https://www.gikai.metro.tokyo.jp/record/proceedings/2006-2/',\n",
       " 'https://www.gikai.metro.tokyo.jp/record/proceedings/2006-1/',\n",
       " 'https://www.gikai.metro.tokyo.jp/record/proceedings/2005-4/',\n",
       " 'https://www.gikai.metro.tokyo.jp/record/proceedings/2005-3/',\n",
       " 'https://www.gikai.metro.tokyo.jp/record/proceedings/2005-2/',\n",
       " 'https://www.gikai.metro.tokyo.jp/record/proceedings/2005-1/',\n",
       " 'https://www.gikai.metro.tokyo.jp/record/proceedings/2004-4/',\n",
       " 'https://www.gikai.metro.tokyo.jp/record/proceedings/2004-3/',\n",
       " 'https://www.gikai.metro.tokyo.jp/record/proceedings/2004-2/',\n",
       " 'https://www.gikai.metro.tokyo.jp/record/proceedings/2004-1/',\n",
       " 'https://www.gikai.metro.tokyo.jp/record/proceedings/2003-4/',\n",
       " 'https://www.gikai.metro.tokyo.jp/record/proceedings/2003-3/',\n",
       " 'https://www.gikai.metro.tokyo.jp/record/proceedings/2003-2/',\n",
       " 'https://www.gikai.metro.tokyo.jp/record/proceedings/2003-1/',\n",
       " 'https://www.gikai.metro.tokyo.jp/record/proceedings/2002-4/',\n",
       " 'https://www.gikai.metro.tokyo.jp/record/proceedings/2002-3/',\n",
       " 'https://www.gikai.metro.tokyo.jp/record/proceedings/2002-2/',\n",
       " 'https://www.gikai.metro.tokyo.jp/record/proceedings/2002-1/',\n",
       " 'https://www.gikai.metro.tokyo.jp/record/proceedings/2001-4/',\n",
       " 'https://www.gikai.metro.tokyo.jp/record/proceedings/2001-3/',\n",
       " 'https://www.gikai.metro.tokyo.jp/record/proceedings/2001-2/',\n",
       " 'https://www.gikai.metro.tokyo.jp/record/proceedings/2001-1/',\n",
       " 'https://www.gikai.metro.tokyo.jp/record/proceedings/2000-4/',\n",
       " 'https://www.gikai.metro.tokyo.jp/record/proceedings/2000-3/',\n",
       " 'https://www.gikai.metro.tokyo.jp/record/proceedings/2000-2/',\n",
       " 'https://www.gikai.metro.tokyo.jp/record/proceedings/2000-1/',\n",
       " 'https://www.gikai.metro.tokyo.jp/record/proceedings/1999-4/']"
      ]
     },
     "execution_count": 8,
     "metadata": {},
     "output_type": "execute_result"
    }
   ],
   "source": [
    "dir_names"
   ]
  },
  {
   "cell_type": "code",
   "execution_count": 9,
   "metadata": {
    "collapsed": false
   },
   "outputs": [
    {
     "data": {
      "text/plain": [
       "'https://www.gikai.metro.tokyo.jp/record/proceedings/2018-3/'"
      ]
     },
     "execution_count": 9,
     "metadata": {},
     "output_type": "execute_result"
    }
   ],
   "source": [
    "dir_names[0]"
   ]
  },
  {
   "cell_type": "code",
   "execution_count": null,
   "metadata": {
    "collapsed": true
   },
   "outputs": [],
   "source": [
    "import time"
   ]
  },
  {
   "cell_type": "code",
   "execution_count": null,
   "metadata": {
    "collapsed": true
   },
   "outputs": [],
   "source": [
    "time.sleep(100)"
   ]
  },
  {
   "cell_type": "code",
   "execution_count": null,
   "metadata": {
    "collapsed": false
   },
   "outputs": [],
   "source": [
    "r = http.request('GET', dir_names[0])\n",
    "soup = BeautifulSoup(r.data, \"html.parser\")"
   ]
  },
  {
   "cell_type": "code",
   "execution_count": null,
   "metadata": {
    "collapsed": false
   },
   "outputs": [],
   "source": [
    "print(dir_names[0].split(\"/\")[-2].split(\"-\")[0])\n",
    "all_info = []\n",
    "info = {}\n",
    "for data in soup.find_all(\"td\"):\n",
    "    text = data.getText().replace(\" \", \"\").replace(\"　\", \"\").replace(\"\\t\", \"\")\n",
    "    if \"月\" in text: \n",
    "        month,day = text.replace(\"日\", \"\").split(\"月\")\n",
    "        info[\"date\"] = {\"month\":month,\"day\":day}\n",
    "        #print(\"date\", info[\"date\"])\n",
    "        continue\n",
    "    elif \"号\" in text:\n",
    "        info[\"number\"] = text\n",
    "        #print(\"number\", info[\"number\"])\n",
    "        continue\n",
    "    else:\n",
    "        some_information = text.split(\"\\n\")\n",
    "        info[\"contents\"] = some_information[0]\n",
    "        name_list = []\n",
    "        belong_list = []\n",
    "        for names in some_information[1:]:\n",
    "            if names == \"\":\n",
    "                continue\n",
    "            try: \n",
    "                name, belong = names.replace(\"）\",\"\").replace(\")\", \"\").replace(\"（\",\"(\").split(\"(\")\n",
    "            except:\n",
    "                name = names.replace(\"）\",\"\").replace(\")\", \"\").replace(\"（\",\"(\")\n",
    "                belong = \"none\"\n",
    "            name_list.append(name)\n",
    "            belong_list.append(belong)\n",
    "        info[\"name\"] = name_list\n",
    "        info[\"belong\"] = belong_list\n",
    "        if \"date\" in info.keys() and \"number\" in info.keys():\n",
    "            print(info)\n",
    "            all_info.append(info)\n",
    "        info = {}\n",
    "        \n",
    "all_info"
   ]
  },
  {
   "cell_type": "code",
   "execution_count": null,
   "metadata": {
    "collapsed": false
   },
   "outputs": [],
   "source": [
    "result_dir_names = []\n",
    "all_info = []\n",
    "for dir_name in dir_names:\n",
    "    time.sleep(10)\n",
    "    r = http.request('GET', dir_name)\n",
    "    soup = BeautifulSoup(r.data, \"html.parser\")\n",
    "    print()\n",
    "    info = {}\n",
    "    for data in soup.find_all(\"td\"):\n",
    "        text = data.getText().replace(\" \", \"\").replace(\"　\", \"\").replace(\"\\t\", \"\")\n",
    "        if \"月\" in text: \n",
    "            month,day = text.replace(\"日\", \"\").split(\"月\")\n",
    "            info[\"date\"] = {\"year\":dir_name.split(\"/\")[-2].split(\"-\")[0],\"month\":month,\"day\":day}\n",
    "            #print(\"date\", info[\"date\"])\n",
    "            continue\n",
    "        elif \"号\" in text:\n",
    "            info[\"number\"] = text\n",
    "            #print(\"number\", info[\"number\"])\n",
    "            continue\n",
    "        else:\n",
    "            some_information = text.split(\"\\n\")\n",
    "            info[\"contents\"] = some_information[0]\n",
    "            name_list = []\n",
    "            belong_list = []\n",
    "            for names in some_information[1:]:\n",
    "                if names == \"\":\n",
    "                    continue\n",
    "                try: \n",
    "                    name, belong = names.replace(\"）\",\"\").replace(\")\", \"\").replace(\"（\",\"(\").split(\"(\")\n",
    "                except:\n",
    "                    try: \n",
    "                        name, _, belong = names.replace(\"）\",\"\").replace(\")\", \"\").replace(\"（\",\"(\").split(\"(\")\n",
    "                    except:\n",
    "                        name = names.replace(\"）\",\"\").replace(\")\", \"\").replace(\"（\",\"(\")\n",
    "                        belong = \"none\"\n",
    "                name_list.append(name)\n",
    "                belong_list.append(belong)\n",
    "            info[\"name\"] = name_list\n",
    "            info[\"belong\"] = belong_list\n",
    "            if \"date\" in info.keys() and \"number\" in info.keys():\n",
    "                print(info)\n",
    "                all_info.append(info)\n",
    "            info = {}\n",
    "        \n",
    "all_info"
   ]
  },
  {
   "cell_type": "code",
   "execution_count": null,
   "metadata": {
    "collapsed": false
   },
   "outputs": [],
   "source": [
    "import json\n",
    "with open(\"tokyo_name.json\", \"w\") as f:\n",
    "    json.dump(all_info, f)"
   ]
  },
  {
   "cell_type": "code",
   "execution_count": null,
   "metadata": {
    "collapsed": true
   },
   "outputs": [],
   "source": []
  }
 ],
 "metadata": {
  "anaconda-cloud": {},
  "kernelspec": {
   "display_name": "Python [conda root]",
   "language": "python",
   "name": "conda-root-py"
  },
  "language_info": {
   "codemirror_mode": {
    "name": "ipython",
    "version": 3
   },
   "file_extension": ".py",
   "mimetype": "text/x-python",
   "name": "python",
   "nbconvert_exporter": "python",
   "pygments_lexer": "ipython3",
   "version": "3.5.2"
  }
 },
 "nbformat": 4,
 "nbformat_minor": 1
}

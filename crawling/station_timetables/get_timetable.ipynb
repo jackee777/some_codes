{
 "cells": [
  {
   "cell_type": "code",
   "execution_count": 1,
   "metadata": {},
   "outputs": [],
   "source": [
    "from bs4 import BeautifulSoup\n",
    "import time\n",
    "import urllib\n",
    "import urllib.request"
   ]
  },
  {
   "cell_type": "code",
   "execution_count": 2,
   "metadata": {},
   "outputs": [],
   "source": [
    "base = \"https://www.jorudan.co.jp/time/area/tokyo/jr.html\""
   ]
  },
  {
   "cell_type": "code",
   "execution_count": 3,
   "metadata": {},
   "outputs": [],
   "source": [
    "def get_trains(base):\n",
    "    base_html = urllib.request.urlopen(\"https://www.jorudan.co.jp/time/area/tokyo/jr.html\")\n",
    "    bs = BeautifulSoup(base_html.read().decode(\"utf8\"), 'html.parser')\n",
    "    time.sleep(5)\n",
    "    URL = [url for url in bs.find_all(\"a\") if \"href\" in url.attrs and \"/time/rosen\" == url.attrs[\"href\"][:11]]\n",
    "    return {url.get_text():url.attrs[\"href\"] for url in URL}"
   ]
  },
  {
   "cell_type": "code",
   "execution_count": 4,
   "metadata": {
    "scrolled": true
   },
   "outputs": [],
   "source": [
    "train_dict = get_trains(base)"
   ]
  },
  {
   "cell_type": "code",
   "execution_count": 5,
   "metadata": {},
   "outputs": [
    {
     "data": {
      "text/plain": [
       "'https://www.jorudan.co.jp/time/rosen_%E3%81%82%E3%81%8B%E3%81%8E.html'"
      ]
     },
     "execution_count": 5,
     "metadata": {},
     "output_type": "execute_result"
    }
   ],
   "source": [
    "\"https://www.jorudan.co.jp\" + train_dict[\"あかぎ\"]"
   ]
  },
  {
   "cell_type": "code",
   "execution_count": 6,
   "metadata": {},
   "outputs": [],
   "source": [
    "def get_timetable(train_url):\n",
    "    train_html = urllib.request.urlopen(\"https://www.jorudan.co.jp\" + train_url)\n",
    "    train_bs = BeautifulSoup(train_html.read().decode(\"utf8\"), 'html.parser')\n",
    "    time.sleep(5)\n",
    "    URL = [url for url in train_bs.find_all(\"a\") if \"href\" in url.attrs and \"/time/eki\" == url.attrs[\"href\"][:9] and url.get_text() != \"時刻表\"]\n",
    "    return {url.get_text():url.attrs[\"href\"] for url in URL}"
   ]
  },
  {
   "cell_type": "code",
   "execution_count": 7,
   "metadata": {},
   "outputs": [
    {
     "data": {
      "text/plain": [
       "{'上尾': '/time/eki_%E4%B8%8A%E5%B0%BE_%E3%81%82%E3%81%8B%E3%81%8E.html?Dym=201910&Ddd=28&Dw=0',\n",
       " '上野': '/time/eki_%E4%B8%8A%E9%87%8E_%E3%81%82%E3%81%8B%E3%81%8E.html?Dym=201910&Ddd=28&Dw=0',\n",
       " '前橋': '/time/eki_%E5%89%8D%E6%A9%8B_%E3%81%82%E3%81%8B%E3%81%8E.html?Dym=201910&Ddd=28&Dw=0',\n",
       " '大宮（埼玉）': '/time/eki_%E5%A4%A7%E5%AE%AE%EF%BC%88%E5%9F%BC%E7%8E%89%EF%BC%89_%E3%81%82%E3%81%8B%E3%81%8E.html?Dym=201910&Ddd=28&Dw=0',\n",
       " '新前橋': '/time/eki_%E6%96%B0%E5%89%8D%E6%A9%8B_%E3%81%82%E3%81%8B%E3%81%8E.html?Dym=201910&Ddd=28&Dw=0',\n",
       " '新宿': '/time/eki_%E6%96%B0%E5%AE%BF_%E3%81%82%E3%81%8B%E3%81%8E.html?Dym=201910&Ddd=28&Dw=0',\n",
       " '新町（群馬）': '/time/eki_%E6%96%B0%E7%94%BA%EF%BC%88%E7%BE%A4%E9%A6%AC%EF%BC%89_%E3%81%82%E3%81%8B%E3%81%8E.html?Dym=201910&Ddd=28&Dw=0',\n",
       " '本庄': '/time/eki_%E6%9C%AC%E5%BA%84_%E3%81%82%E3%81%8B%E3%81%8E.html?Dym=201910&Ddd=28&Dw=0',\n",
       " '桶川': '/time/eki_%E6%A1%B6%E5%B7%9D_%E3%81%82%E3%81%8B%E3%81%8E.html?Dym=201910&Ddd=28&Dw=0',\n",
       " '池袋': '/time/eki_%E6%B1%A0%E8%A2%8B_%E3%81%82%E3%81%8B%E3%81%8E.html?Dym=201910&Ddd=28&Dw=0',\n",
       " '浦和': '/time/eki_%E6%B5%A6%E5%92%8C_%E3%81%82%E3%81%8B%E3%81%8E.html?Dym=201910&Ddd=28&Dw=0',\n",
       " '深谷': '/time/eki_%E6%B7%B1%E8%B0%B7_%E3%81%82%E3%81%8B%E3%81%8E.html?Dym=201910&Ddd=28&Dw=0',\n",
       " '熊谷': '/time/eki_%E7%86%8A%E8%B0%B7_%E3%81%82%E3%81%8B%E3%81%8E.html?Dym=201910&Ddd=28&Dw=0',\n",
       " '赤羽': '/time/eki_%E8%B5%A4%E7%BE%BD_%E3%81%82%E3%81%8B%E3%81%8E.html?Dym=201910&Ddd=28&Dw=0',\n",
       " '高崎': '/time/eki_%E9%AB%98%E5%B4%8E_%E3%81%82%E3%81%8B%E3%81%8E.html?Dym=201910&Ddd=28&Dw=0'}"
      ]
     },
     "execution_count": 7,
     "metadata": {},
     "output_type": "execute_result"
    }
   ],
   "source": [
    "get_timetable(train_dict[\"あかぎ\"])"
   ]
  },
  {
   "cell_type": "code",
   "execution_count": 8,
   "metadata": {},
   "outputs": [],
   "source": [
    "def get_train_number(table_url):\n",
    "    table_html = urllib.request.urlopen(\"https://www.jorudan.co.jp\" + table_url)\n",
    "    table_bs = BeautifulSoup(table_html.read().decode(\"utf8\"), 'html.parser')\n",
    "    time.sleep(10)\n",
    "    train_number = len([url for url in table_bs.find_all(\"a\") if \"href\" in url.attrs and \"/time/cgi\" == url.attrs[\"href\"][:9]])\n",
    "    return train_number"
   ]
  },
  {
   "cell_type": "code",
   "execution_count": null,
   "metadata": {},
   "outputs": [
    {
     "name": "stdout",
     "output_type": "stream",
     "text": [
      "藤沢 342\n",
      "国府津 262\n",
      "横浜 337\n",
      "早川 118\n",
      "戸塚 319\n",
      "真鶴 118\n",
      "新橋 256\n",
      "川崎 259\n",
      "根府川 118\n",
      "大磯 235\n",
      "品川 300\n",
      "東京 178\n",
      "熱海 66\n",
      "大船 339\n",
      "辻堂 291\n",
      "平塚 311\n",
      "湯河原 127\n",
      "小田原 189\n",
      "茅ヶ崎 340\n",
      "鴨宮（神奈川） 187\n",
      "二宮 241\n",
      "東海道本線（東日本） {'藤沢': 342, '国府津': 262, '横浜': 337, '戸塚': 319, '新橋': 256, '川崎': 259, '湯河原': 127, '根府川': 118, '大磯': 235, '品川': 300, '東京': 178, '小田原': 189, '真鶴': 118, '早川': 118, '平塚': 311, '熱海': 66, '大船': 339, '茅ヶ崎': 340, '鴨宮（神奈川）': 187, '二宮': 241, '辻堂': 291}\n"
     ]
    }
   ],
   "source": [
    "base_urls = [\"https://www.jorudan.co.jp/time/area/tokyo/jr.html\", \"https://www.jorudan.co.jp/time/area/tokyo/other.html\"]\n",
    "table_information = {}\n",
    "for base in base_urls:\n",
    "    for train, train_url in get_trains(base).items():\n",
    "        train_information = {}\n",
    "        for station, table_url in get_timetable(train_url).items():\n",
    "            print(station, get_train_number(table_url))\n",
    "            train_information[station] = get_train_number(table_url)\n",
    "        print(train, train_information)\n",
    "        table_information[train] = train_information"
   ]
  },
  {
   "cell_type": "code",
   "execution_count": null,
   "metadata": {},
   "outputs": [],
   "source": []
  },
  {
   "cell_type": "code",
   "execution_count": null,
   "metadata": {},
   "outputs": [],
   "source": []
  }
 ],
 "metadata": {
  "kernelspec": {
   "display_name": "Python 3",
   "language": "python",
   "name": "python3"
  },
  "language_info": {
   "codemirror_mode": {
    "name": "ipython",
    "version": 3
   },
   "file_extension": ".py",
   "mimetype": "text/x-python",
   "name": "python",
   "nbconvert_exporter": "python",
   "pygments_lexer": "ipython3",
   "version": "3.5.2"
  }
 },
 "nbformat": 4,
 "nbformat_minor": 2
}
